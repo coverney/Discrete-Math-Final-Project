{
 "cells": [
  {
   "cell_type": "code",
   "execution_count": 10,
   "metadata": {},
   "outputs": [],
   "source": [
    "import pandas as pd\n",
    "# import thinkplot\n",
    "import numpy as np\n",
    "import re\n",
    "# from tqdm import tqdm\n",
    "# from reporter import Reporter\n",
    "import random\n",
    "import time\n",
    "import pickle"
   ]
  },
  {
   "cell_type": "markdown",
   "metadata": {},
   "source": [
    "Import the dictionary of ASIN IDs as keys to product titles as values:"
   ]
  },
  {
   "cell_type": "code",
   "execution_count": 11,
   "metadata": {},
   "outputs": [],
   "source": [
    "file_name = \"ID_map-11-18\"\n",
    "picklefile = open(file_name,'rb')\n",
    "ID_map = pickle.load(picklefile)\n",
    "\n",
    "# Function for getting the name based on an ASIN ID:\n",
    "def get_product_name(ASIN):\n",
    "    if ASIN in ID_map:\n",
    "        return ID_map[ASIN]\n",
    "    else:\n",
    "        print(\"There was an error with %s\", ASIN)"
   ]
  },
  {
   "cell_type": "markdown",
   "metadata": {},
   "source": [
    "Import adjacency matrix saved as copurchases pickle file"
   ]
  },
  {
   "cell_type": "code",
   "execution_count": 12,
   "metadata": {},
   "outputs": [],
   "source": [
    "# open the file for writing\n",
    "file_name = \"copurchases-11-20\"\n",
    "picklefile = open(file_name,'rb')\n",
    "copurchases = pickle.load(picklefile)"
   ]
  },
  {
   "cell_type": "markdown",
   "metadata": {},
   "source": [
    "Class for Reporter object that stores cliques, and can print them"
   ]
  },
  {
   "cell_type": "code",
   "execution_count": 13,
   "metadata": {},
   "outputs": [],
   "source": [
    "class Reporter(object):\n",
    "    def __init__(self, name):\n",
    "        self.name = name\n",
    "        self.cnt = 0\n",
    "        self.cliques = []\n",
    "\n",
    "    def inc_count(self):\n",
    "        self.cnt += 1\n",
    "\n",
    "    def record(self, clique):\n",
    "        self.cliques.append(clique)\n",
    "\n",
    "    def sort_cliques(self):\n",
    "        self.cliques.sort(key=len, reverse=True)\n",
    "\n",
    "    def print_max(self, n):\n",
    "        # print the n largest cliques\n",
    "        self.sort_cliques()\n",
    "        print(self.name)\n",
    "        print('%d recursive calls' % self.cnt)\n",
    "        for i in range(n):\n",
    "            clique = self.cliques[i]\n",
    "            products = []\n",
    "            for ASIN in clique:\n",
    "                products.append(get_product_name(ASIN))\n",
    "            print('%d: %s' % (i, products))\n",
    "        print()\n",
    "\n",
    "    def print_report(self):\n",
    "        print(self.name)\n",
    "        print('%d recursive calls' % self.cnt)\n",
    "        for i, clique in enumerate(self.cliques):\n",
    "            products = []\n",
    "            for ASIN in clique:\n",
    "                products.append(get_product_name(ASIN))\n",
    "            print('%d: %s' % (i, products))\n",
    "        print()\n"
   ]
  },
  {
   "cell_type": "markdown",
   "metadata": {},
   "source": [
    "Implement naive Bron–Kerbosch algorithm"
   ]
  },
  {
   "cell_type": "code",
   "execution_count": 14,
   "metadata": {},
   "outputs": [],
   "source": [
    "def bronKerbosch1(clique, candidates, excluded, reporter):\n",
    "    '''Naive Bron–Kerbosch algorithm'''\n",
    "    reporter.inc_count()\n",
    "    if not candidates and not excluded:\n",
    "        if len(clique) >= 3:\n",
    "            reporter.record(clique)\n",
    "        return\n",
    "    \n",
    "    for v in list(candidates):\n",
    "        new_candidates = candidates.intersection(copurchases[v])\n",
    "        new_excluded = candidates.intersection(copurchases[v])\n",
    "        bronKerbosch1(clique+[v], new_candidates, new_excluded, reporter)\n",
    "        candidates.remove(v)\n",
    "        excluded.add(v)"
   ]
  },
  {
   "cell_type": "code",
   "execution_count": 15,
   "metadata": {},
   "outputs": [
    {
     "name": "stdout",
     "output_type": "stream",
     "text": [
      "Naive method: 5.654755353927612\n"
     ]
    }
   ],
   "source": [
    "start = time.time()\n",
    "report1 = Reporter('## %s' % bronKerbosch1.__doc__)\n",
    "bronKerbosch1([], set(copurchases.keys()), set(), report1)\n",
    "end = time.time()\n",
    "print('Naive method:', end - start)"
   ]
  },
  {
   "cell_type": "code",
   "execution_count": 16,
   "metadata": {},
   "outputs": [
    {
     "name": "stdout",
     "output_type": "stream",
     "text": [
      "## Naive Bron–Kerbosch algorithm\n",
      "1523792 recursive calls\n",
      "0: ['The Rainy Day Adventure (Little Tiger and Friends)', 'Time for Bed, Little Tiger: Lift the Flap', 'Hide and Seek, Little Tiger! (Little Tiger Lift-the-Flap)', \"Little Tiger's Big Surprise!\", 'Wake Up, Little Tiger: Lift the Flap', 'Bathtime, Little Tiger! (Little Tiger Lift-the-Flap)']\n",
      "1: ['Scary Stories Audio CD Collection', 'More Scary Stories To Tell In The Dark', 'Ghosts!: Ghostly Tales from Folklore (An I Can Read Book, Level 2)', 'Scary Stories to Tell in the Dark 25th Anniversary Edition : Collected from American Folklore (Scary Stories)', 'In a Dark, Dark Room and Other Scary Stories', 'Scary Stories 3 : More Tales to Chill Your Bones (Scary Stories)']\n",
      "2: ['More Than Singing: Discovering Music in Preschool and Kindergarten', 'More Than Counting: Whole Math Activities for Preschool and Kindergarten', 'More Than Painting: Exploring the Wonders of Art in Preschool and Kindergarten', 'More Than Magnets: Exploring the Wonders of Science in Preschool and Kindergarten', 'Much More Than Counting: More Math Activities for Preschool and Kindergarten', 'More Than Letters: Literacy Activities for Preschool, Kindergarten, and First Grade']\n",
      "3: ['Cleopatra Jones', 'Diamonds', 'Coffy (Score)', 'Shorty the Pimp', 'Savage! Super Soul Soundtrack (1973 Film)', 'The Mack']\n",
      "4: ['Arvo Pärt: Litany', 'Alina - Arvo Part', 'Arvo Pärt Sanctuary', 'Arvo Pärt: De Profundis', 'Arvo Part: Te Deum / Kaljuste, Estonian Philharmonic Chamber Choir', 'Tabula Rasa']\n",
      "5: ['Healing Together: How to Bring Peace into Your Life and the World', 'Healing the Addictive Mind', 'Forgiveness: The Greatest Healer of All', 'Out of Darkness into the Light : A Journey of Inner Healing', 'Love Is Letting Go of Fear', 'Good-Bye to Guilt : Releasing Fear Through Forgiveness']\n",
      "6: ['Jessica', 'A Weekend with Wendell', 'Julius, the Baby of the World', 'Chrysanthemum', 'Sheila Rae, the Brave', \"Chester's Way\"]\n",
      "7: [\"Carl's Birthday (Carl)\", \"Carl's Afternoon in the Park\", 'Carl Goes Shopping (Carl)', 'Good Dog, Carl : A Classic Board Book', \"Carl's Christmas (Carl)\", 'Carl Goes to Daycare (Carl)']\n",
      "8: ['Poppleton In Spring (Poppleton)', 'Poppleton Has Fun (Poppleton)', 'Poppleton And Friends (Poppleton)', 'Poppleton In Fall (Poppleton)', 'Poppleton Everyday (Poppleton)', 'Poppleton Forever (Poppleton)']\n",
      "9: ['Blue Moon', 'Summer Light', 'Dream Country', 'Home Fires', 'Follow the Stars Home', 'Cloud Nine']\n",
      "\n"
     ]
    }
   ],
   "source": [
    "report1.print_max(10)"
   ]
  },
  {
   "cell_type": "markdown",
   "metadata": {},
   "source": [
    "Implement Bron–Kerbosch algorithm with a pivot. Randomly pick a vertex u from `candidates` or `excluded`. The maximal clique must include either u or one of its non-neighbors."
   ]
  },
  {
   "cell_type": "code",
   "execution_count": 42,
   "metadata": {},
   "outputs": [],
   "source": [
    "def bronKerbosch2(clique, candidates, excluded, reporter):\n",
    "    '''Bron–Kerbosch algorithm with pivot'''\n",
    "    reporter.inc_count()\n",
    "    if not candidates and not excluded:\n",
    "        if len(clique) >= 3:\n",
    "            reporter.record(clique)\n",
    "        return\n",
    "    u = pick_pivot(candidates) or pick_pivot(excluded)\n",
    "    # only consider u or its non neighbors\n",
    "    for v in list(candidates.difference(copurchases[u])):\n",
    "        new_candidates = candidates.intersection(copurchases[v])\n",
    "        new_excluded = candidates.intersection(copurchases[v])\n",
    "        bronKerbosch2(clique+[v], new_candidates, new_excluded, reporter)\n",
    "        candidates.remove(v)\n",
    "        excluded.add(v)\n",
    "        \n",
    "def pick_pivot(nodes):\n",
    "    if nodes:\n",
    "        return random.sample(nodes, 1)[0]"
   ]
  },
  {
   "cell_type": "code",
   "execution_count": 43,
   "metadata": {},
   "outputs": [
    {
     "name": "stdout",
     "output_type": "stream",
     "text": [
      "Pivot method: 4.596645832061768\n"
     ]
    }
   ],
   "source": [
    "start = time.time()\n",
    "report2 = Reporter('## %s' % bronKerbosch2.__doc__)\n",
    "bronKerbosch2([], set(copurchases.keys()), set(), report2)\n",
    "end = time.time()\n",
    "print('Pivot method:', end - start)"
   ]
  },
  {
   "cell_type": "code",
   "execution_count": 44,
   "metadata": {},
   "outputs": [
    {
     "name": "stdout",
     "output_type": "stream",
     "text": [
      "## Bron–Kerbosch algorithm with pivot\n",
      "1270896 recursive calls\n",
      "0: ['A Basic Guide To Importing', 'Export/Import Procedures and Documentation (Export/Import Procedures & Documentation)', 'Importing Into the United States: : A Guide for Commercial Importers', 'Building an Import/Export Business, 3rd Edition', 'Import/Export: How to Get Started in International Trade', \"Start Your Own Import/Export Business (Entrepreneur Magazine's Start Ups)\"]\n",
      "1: [\"Dr. Jensen's Guide to Body Chemistry & Nutrition\", \"Dr. Jensen's Juicing Therapy : Nature's Way to Better Health and a Longer Life\", \"Dr. Jensen's Guide to Diet and Detoxification : Healthy Secrets from Around the World\", \"Dr. Jensen's Nutrition Handbook : A Daily Regimen for Healthy Living\", 'Foods That Heal', \"Dr. Jensen's Guide to Better Bowel Care: A Complete Program for Tissue Cleansing Through Bowel Management\"]\n",
      "2: ['Hollywood', 'Factotum', 'Notes of a Dirty Old Man', 'Post Office', 'Women', 'Ham on Rye']\n",
      "3: ['Creative Companion: How to Free Your Creative Spirit', 'Living Juicy: Daily Morsels for Your Creative Soul', 'Inspiration Sandwich: Stories to Inspire Our Creative Freedom', 'The BODACIOUS BOOK OF SUCCULENCE : DARING TO LIVE YOUR SUCCULENT WILD LIFE', 'Succulent Wild Woman', 'Eat Mangoes Naked : Finding Pleasure Everywhere (and dancing with the Pits)']\n",
      "4: ['The Best Way to Play: Little Bill Books for Beginning Readers', 'Money Troubles (A Little Bill Book for Beginning Readers)', 'My Big Lie (A Little Bill Book for Beginning Readers)', 'One Dark and Scary Night (A Little Bill Book for Beginning Readers)', 'The Meanest Thing to Say (A Little Bill Book for Beginning Readers)', 'The Treasure Hunt (A Little Bill Book for Beginning Readers)']\n",
      "5: ['180 Ways To Walk The Customer Service Talk', 'Customer Service 101: Basic Lessons to Be Your Best', 'Great Customer Service on the Telephone (Worksmart Series)', \"Super Service: Seven Keys to Delivering Great Customer Service...Even When You Don't Feel Like It!...Even When They Don't Deserve It!\", 'The Big Book of Customer Service Training Games', 'Coaching Knock Your Socks Off Service']\n",
      "6: ['Underdog - The Gangster Chronicles', 'Underdog vs. Simon Barsinister', 'Underdog - The Alien Chronicles', 'Underdog vs. Overcat', 'Underdog - The Mad Scientist Chronicles', 'Underdog vs. Riff Raff']\n",
      "7: ['Witchcraft and Magic in Europe: Ancient Greece and Rome (Witchcraft and Magic in Europe (Paperback))', 'Witchcraft and Magic in Europe: The Period of the Witch Trials (Witchcraft and Magic in Europe (Paperback))', 'Witchcraft and Magic in Europe: The Twentieth Century (Witchcraft and Magic in Europe (Paperback))', 'Biblical and Pagan Societies (Witchcraft and Magic in Europe)', 'Witchcraft and Magic in Europe: The Middle Ages (Witchcraft and Magic in Europe)', 'Witchcraft and Magic in Europe: The Eighteenth and Nineteenth Centuries (Witchcraft and Magic in Europe (Paperback))']\n",
      "8: ['Dire Straits', 'Brothers in Arms', 'On Every Street', 'Love over Gold', 'Communiqué', 'Making Movies']\n",
      "9: ['Last Man Standing', 'Total Control', 'Absolute Power', 'Wish You Well', 'The Winner', 'The Simple Truth']\n",
      "\n"
     ]
    }
   ],
   "source": [
    "report2.print_max(10)"
   ]
  },
  {
   "cell_type": "markdown",
   "metadata": {},
   "source": [
    "Implement Bron–Kerbosch algorithm with a pivot and degeneracy ordering. Degeneracy ordering is the ordering of vertices such that each vertex has d or fewer neighbors that come later in the ordering. Select vertex of minimum degree among remaining vertices."
   ]
  },
  {
   "cell_type": "code",
   "execution_count": 35,
   "metadata": {},
   "outputs": [],
   "source": [
    "def bronKerbosch3(clique, candidates, excluded, reporter):\n",
    "    '''Bron–Kerbosch algorithm with pivot and degeneracy ordering'''\n",
    "    reporter.inc_count()\n",
    "    if not candidates and not excluded:\n",
    "        if len(clique) >= 3:\n",
    "            reporter.record(clique)\n",
    "        return\n",
    "    for v in list(degeneracy_order(candidates)):\n",
    "        new_candidates = candidates.intersection(copurchases[v])\n",
    "        new_excluded = candidates.intersection(copurchases[v])\n",
    "        bronKerbosch2(clique.append(v), new_candidates, new_excluded, reporter)\n",
    "        candidates.remove(v)\n",
    "        excluded.add(v)\n",
    "        \n",
    "def degeneracy_order(nodes):\n",
    "    deg = {}\n",
    "    for node in graph:\n",
    "        deg[node] = len(graph[node])\n",
    "    \n",
    "    while deg:\n",
    "        # find min degree\n",
    "        i, d = min(deg.items(), key=lambda pair:pair[1])\n",
    "        yield i\n",
    "        del deg[i]\n",
    "        for v in graph[i]:\n",
    "            if v in deg:\n",
    "                deg[v] -= 1"
   ]
  },
  {
   "cell_type": "code",
   "execution_count": 36,
   "metadata": {},
   "outputs": [
    {
     "ename": "KeyboardInterrupt",
     "evalue": "",
     "output_type": "error",
     "traceback": [
      "\u001b[1;31m---------------------------------------------------------------------------\u001b[0m",
      "\u001b[1;31mKeyboardInterrupt\u001b[0m                         Traceback (most recent call last)",
      "\u001b[1;32m<ipython-input-36-67c6fc13299b>\u001b[0m in \u001b[0;36m<module>\u001b[1;34m\u001b[0m\n\u001b[0;32m      1\u001b[0m \u001b[0mreport3\u001b[0m \u001b[1;33m=\u001b[0m \u001b[0mReporter\u001b[0m\u001b[1;33m(\u001b[0m\u001b[1;34m'## %s'\u001b[0m \u001b[1;33m%\u001b[0m \u001b[0mbronKerbosch3\u001b[0m\u001b[1;33m.\u001b[0m\u001b[0m__doc__\u001b[0m\u001b[1;33m)\u001b[0m\u001b[1;33m\u001b[0m\u001b[1;33m\u001b[0m\u001b[0m\n\u001b[1;32m----> 2\u001b[1;33m \u001b[0mbronKerbosch3\u001b[0m\u001b[1;33m(\u001b[0m\u001b[1;33m[\u001b[0m\u001b[1;33m]\u001b[0m\u001b[1;33m,\u001b[0m \u001b[0mset\u001b[0m\u001b[1;33m(\u001b[0m\u001b[0mgraph\u001b[0m\u001b[1;33m.\u001b[0m\u001b[0mkeys\u001b[0m\u001b[1;33m(\u001b[0m\u001b[1;33m)\u001b[0m\u001b[1;33m)\u001b[0m\u001b[1;33m,\u001b[0m \u001b[0mset\u001b[0m\u001b[1;33m(\u001b[0m\u001b[1;33m)\u001b[0m\u001b[1;33m,\u001b[0m \u001b[0mreport3\u001b[0m\u001b[1;33m)\u001b[0m\u001b[1;33m\u001b[0m\u001b[1;33m\u001b[0m\u001b[0m\n\u001b[0m",
      "\u001b[1;32m<ipython-input-35-9a0f2a82c42b>\u001b[0m in \u001b[0;36mbronKerbosch3\u001b[1;34m(clique, candidates, excluded, reporter)\u001b[0m\n\u001b[0;32m      6\u001b[0m             \u001b[0mreporter\u001b[0m\u001b[1;33m.\u001b[0m\u001b[0mrecord\u001b[0m\u001b[1;33m(\u001b[0m\u001b[0mclique\u001b[0m\u001b[1;33m)\u001b[0m\u001b[1;33m\u001b[0m\u001b[1;33m\u001b[0m\u001b[0m\n\u001b[0;32m      7\u001b[0m         \u001b[1;32mreturn\u001b[0m\u001b[1;33m\u001b[0m\u001b[1;33m\u001b[0m\u001b[0m\n\u001b[1;32m----> 8\u001b[1;33m     \u001b[1;32mfor\u001b[0m \u001b[0mv\u001b[0m \u001b[1;32min\u001b[0m \u001b[0mlist\u001b[0m\u001b[1;33m(\u001b[0m\u001b[0mdegeneracy_order\u001b[0m\u001b[1;33m(\u001b[0m\u001b[0mcandidates\u001b[0m\u001b[1;33m)\u001b[0m\u001b[1;33m)\u001b[0m\u001b[1;33m:\u001b[0m\u001b[1;33m\u001b[0m\u001b[1;33m\u001b[0m\u001b[0m\n\u001b[0m\u001b[0;32m      9\u001b[0m         \u001b[0mnew_candidates\u001b[0m \u001b[1;33m=\u001b[0m \u001b[0mcandidates\u001b[0m\u001b[1;33m.\u001b[0m\u001b[0mintersection\u001b[0m\u001b[1;33m(\u001b[0m\u001b[0mgraph\u001b[0m\u001b[1;33m[\u001b[0m\u001b[0mv\u001b[0m\u001b[1;33m]\u001b[0m\u001b[1;33m)\u001b[0m\u001b[1;33m\u001b[0m\u001b[1;33m\u001b[0m\u001b[0m\n\u001b[0;32m     10\u001b[0m         \u001b[0mnew_excluded\u001b[0m \u001b[1;33m=\u001b[0m \u001b[0mcandidates\u001b[0m\u001b[1;33m.\u001b[0m\u001b[0mintersection\u001b[0m\u001b[1;33m(\u001b[0m\u001b[0mgraph\u001b[0m\u001b[1;33m[\u001b[0m\u001b[0mv\u001b[0m\u001b[1;33m]\u001b[0m\u001b[1;33m)\u001b[0m\u001b[1;33m\u001b[0m\u001b[1;33m\u001b[0m\u001b[0m\n",
      "\u001b[1;32m<ipython-input-35-9a0f2a82c42b>\u001b[0m in \u001b[0;36mdegeneracy_order\u001b[1;34m(nodes)\u001b[0m\n\u001b[0;32m     20\u001b[0m     \u001b[1;32mwhile\u001b[0m \u001b[0mdeg\u001b[0m\u001b[1;33m:\u001b[0m\u001b[1;33m\u001b[0m\u001b[1;33m\u001b[0m\u001b[0m\n\u001b[0;32m     21\u001b[0m         \u001b[1;31m# find min degree\u001b[0m\u001b[1;33m\u001b[0m\u001b[1;33m\u001b[0m\u001b[1;33m\u001b[0m\u001b[0m\n\u001b[1;32m---> 22\u001b[1;33m         \u001b[0mi\u001b[0m\u001b[1;33m,\u001b[0m \u001b[0md\u001b[0m \u001b[1;33m=\u001b[0m \u001b[0mmin\u001b[0m\u001b[1;33m(\u001b[0m\u001b[0mdeg\u001b[0m\u001b[1;33m.\u001b[0m\u001b[0mitems\u001b[0m\u001b[1;33m(\u001b[0m\u001b[1;33m)\u001b[0m\u001b[1;33m,\u001b[0m \u001b[0mkey\u001b[0m\u001b[1;33m=\u001b[0m\u001b[1;32mlambda\u001b[0m \u001b[0mpair\u001b[0m\u001b[1;33m:\u001b[0m\u001b[0mpair\u001b[0m\u001b[1;33m[\u001b[0m\u001b[1;36m1\u001b[0m\u001b[1;33m]\u001b[0m\u001b[1;33m)\u001b[0m\u001b[1;33m\u001b[0m\u001b[1;33m\u001b[0m\u001b[0m\n\u001b[0m\u001b[0;32m     23\u001b[0m         \u001b[1;32myield\u001b[0m \u001b[0mi\u001b[0m\u001b[1;33m\u001b[0m\u001b[1;33m\u001b[0m\u001b[0m\n\u001b[0;32m     24\u001b[0m         \u001b[1;32mdel\u001b[0m \u001b[0mdeg\u001b[0m\u001b[1;33m[\u001b[0m\u001b[0mi\u001b[0m\u001b[1;33m]\u001b[0m\u001b[1;33m\u001b[0m\u001b[1;33m\u001b[0m\u001b[0m\n",
      "\u001b[1;32m<ipython-input-35-9a0f2a82c42b>\u001b[0m in \u001b[0;36m<lambda>\u001b[1;34m(pair)\u001b[0m\n\u001b[0;32m     20\u001b[0m     \u001b[1;32mwhile\u001b[0m \u001b[0mdeg\u001b[0m\u001b[1;33m:\u001b[0m\u001b[1;33m\u001b[0m\u001b[1;33m\u001b[0m\u001b[0m\n\u001b[0;32m     21\u001b[0m         \u001b[1;31m# find min degree\u001b[0m\u001b[1;33m\u001b[0m\u001b[1;33m\u001b[0m\u001b[1;33m\u001b[0m\u001b[0m\n\u001b[1;32m---> 22\u001b[1;33m         \u001b[0mi\u001b[0m\u001b[1;33m,\u001b[0m \u001b[0md\u001b[0m \u001b[1;33m=\u001b[0m \u001b[0mmin\u001b[0m\u001b[1;33m(\u001b[0m\u001b[0mdeg\u001b[0m\u001b[1;33m.\u001b[0m\u001b[0mitems\u001b[0m\u001b[1;33m(\u001b[0m\u001b[1;33m)\u001b[0m\u001b[1;33m,\u001b[0m \u001b[0mkey\u001b[0m\u001b[1;33m=\u001b[0m\u001b[1;32mlambda\u001b[0m \u001b[0mpair\u001b[0m\u001b[1;33m:\u001b[0m\u001b[0mpair\u001b[0m\u001b[1;33m[\u001b[0m\u001b[1;36m1\u001b[0m\u001b[1;33m]\u001b[0m\u001b[1;33m)\u001b[0m\u001b[1;33m\u001b[0m\u001b[1;33m\u001b[0m\u001b[0m\n\u001b[0m\u001b[0;32m     23\u001b[0m         \u001b[1;32myield\u001b[0m \u001b[0mi\u001b[0m\u001b[1;33m\u001b[0m\u001b[1;33m\u001b[0m\u001b[0m\n\u001b[0;32m     24\u001b[0m         \u001b[1;32mdel\u001b[0m \u001b[0mdeg\u001b[0m\u001b[1;33m[\u001b[0m\u001b[0mi\u001b[0m\u001b[1;33m]\u001b[0m\u001b[1;33m\u001b[0m\u001b[1;33m\u001b[0m\u001b[0m\n",
      "\u001b[1;31mKeyboardInterrupt\u001b[0m: "
     ]
    }
   ],
   "source": [
    "report3 = Reporter('## %s' % bronKerbosch3.__doc__)\n",
    "bronKerbosch3([], set(copurchases.keys()), set(), report3)"
   ]
  },
  {
   "cell_type": "code",
   "execution_count": null,
   "metadata": {},
   "outputs": [],
   "source": [
    "report3.print_max(10)"
   ]
  },
  {
   "cell_type": "code",
   "execution_count": null,
   "metadata": {},
   "outputs": [],
   "source": []
  }
 ],
 "metadata": {
  "kernelspec": {
   "display_name": "Python 3",
   "language": "python",
   "name": "python3"
  },
  "language_info": {
   "codemirror_mode": {
    "name": "ipython",
    "version": 3
   },
   "file_extension": ".py",
   "mimetype": "text/x-python",
   "name": "python",
   "nbconvert_exporter": "python",
   "pygments_lexer": "ipython3",
   "version": "3.6.8"
  }
 },
 "nbformat": 4,
 "nbformat_minor": 2
}

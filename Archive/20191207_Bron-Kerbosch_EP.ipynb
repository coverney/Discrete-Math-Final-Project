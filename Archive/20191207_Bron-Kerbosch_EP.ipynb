{
 "cells": [
  {
   "cell_type": "code",
   "execution_count": 49,
   "metadata": {},
   "outputs": [],
   "source": [
    "import pandas as pd\n",
    "import matplotlib.pyplot\n",
    "# import thinkplot\n",
    "import numpy as np\n",
    "import re\n",
    "# from tqdm import tqdm\n",
    "# from reporter import Reporter\n",
    "import random\n",
    "import time\n",
    "import pickle"
   ]
  },
  {
   "cell_type": "markdown",
   "metadata": {},
   "source": [
    "Import the dictionary of ASIN IDs as keys to product titles as values:"
   ]
  },
  {
   "cell_type": "code",
   "execution_count": 32,
   "metadata": {},
   "outputs": [
    {
     "name": "stdout",
     "output_type": "stream",
     "text": [
      "21\n"
     ]
    }
   ],
   "source": [
    "file_name = \"email-departments-12-05\"\n",
    "picklefile = open(file_name,'rb')\n",
    "dep_map = pickle.load(picklefile)\n",
    "print(dep_map['3'])\n",
    "\n",
    "def get_department(id):\n",
    "    return dep_map[id]"
   ]
  },
  {
   "cell_type": "markdown",
   "metadata": {},
   "source": [
    "Import adjacency matrix saved as copurchases pickle file"
   ]
  },
  {
   "cell_type": "code",
   "execution_count": 18,
   "metadata": {},
   "outputs": [
    {
     "name": "stdout",
     "output_type": "stream",
     "text": [
      "['2', '4', '63', '174', '408', '58', '175', '114', '192', '303', '56', '286', '59', '236', '587', '281', '665', '520', '412', '195', '411', '137', '158', '194', '211', '239', '183', '272', '107', '571', '160', '599', '859', '89', '62', '812', '601', '886', '57', '102', '208', '6', '832', '371', '434', '256', '685', '481', '81', '193', '323', '55', '249', '971', '845', '271', '252', '138', '880', '932', '473', '405', '210', '46', '128', '283', '166', '990', '1001']\n"
     ]
    }
   ],
   "source": [
    "# open the file for writing\n",
    "file_name = \"copurchases-emails-12-05\"\n",
    "picklefile = open(file_name,'rb')\n",
    "copurchases = pickle.load(picklefile)\n",
    "\n",
    "print(copurchases['3'])"
   ]
  },
  {
   "cell_type": "markdown",
   "metadata": {},
   "source": [
    "Class for Reporter object that stores cliques, and can print them"
   ]
  },
  {
   "cell_type": "code",
   "execution_count": 65,
   "metadata": {},
   "outputs": [],
   "source": [
    "class Reporter(object):\n",
    "    def __init__(self, name):\n",
    "        self.name = name\n",
    "        self.cnt = 0\n",
    "        self.cliques = []\n",
    "\n",
    "    def inc_count(self):\n",
    "        self.cnt += 1\n",
    "\n",
    "    def record(self, clique):\n",
    "        self.cliques.append(clique)\n",
    "\n",
    "    def sort_cliques(self):\n",
    "        self.cliques.sort(key=len, reverse=True)\n",
    "\n",
    "    def print_max(self, n):\n",
    "        # print the n largest cliques\n",
    "        self.sort_cliques()\n",
    "        print(self.name)\n",
    "        print('%d recursive calls' % self.cnt)\n",
    "        for i in range(n):\n",
    "            clique = self.cliques[i]\n",
    "            products = []\n",
    "            departments = []\n",
    "            for el in clique:\n",
    "                products.append(el)\n",
    "                dep = get_department(el)\n",
    "                departments.append(dep)\n",
    "            print('Clique %d' % i)\n",
    "            print('People IDs: %s' % (products))\n",
    "            print('Department IDs: %s' % (departments))\n",
    "        print()\n",
    "\n",
    "    def print_report(self):\n",
    "        print(self.name)\n",
    "        print('%d recursive calls' % self.cnt)\n",
    "        products = []\n",
    "        departments = []\n",
    "        for i, clique in enumerate(self.cliques):\n",
    "            for element in clique:\n",
    "                products.append() # TODO: append get_name(element)\n",
    "                dep = get_department(element)\n",
    "                departments.append(dep)\n",
    "            print('Clique %d' % i)\n",
    "            print('People IDs: %s' % (products))\n",
    "            print('Department IDs: %s' % (departments))\n",
    "        print()\n",
    "        \n",
    "    def get_cliques(self):\n",
    "        self.sort_cliques()\n",
    "        return self.cliques\n"
   ]
  },
  {
   "cell_type": "markdown",
   "metadata": {},
   "source": [
    "### Implement naive Bron–Kerbosch algorithm"
   ]
  },
  {
   "cell_type": "code",
   "execution_count": 66,
   "metadata": {},
   "outputs": [],
   "source": [
    "def bronKerbosch1(clique, candidates, excluded, reporter):\n",
    "    '''Naive Bron–Kerbosch algorithm'''\n",
    "    reporter.inc_count()\n",
    "    if not candidates and not excluded:\n",
    "        if len(clique) >= 3:\n",
    "            reporter.record(clique)\n",
    "        return\n",
    "    \n",
    "    for v in list(candidates):\n",
    "        new_candidates = candidates.intersection(copurchases[v])\n",
    "        new_excluded = candidates.intersection(copurchases[v])\n",
    "        bronKerbosch1(clique+[v], new_candidates, new_excluded, reporter)\n",
    "        candidates.remove(v)\n",
    "        excluded.add(v)"
   ]
  },
  {
   "cell_type": "code",
   "execution_count": 67,
   "metadata": {},
   "outputs": [
    {
     "name": "stdout",
     "output_type": "stream",
     "text": [
      "Naive method: 202.463359 ms\n"
     ]
    }
   ],
   "source": [
    "start = time.time()\n",
    "report1 = Reporter('## %s' % bronKerbosch1.__doc__)\n",
    "bronKerbosch1([], set(copurchases.keys()), set(), report1)\n",
    "end = time.time()\n",
    "print('Naive method: %f ms' % (end - start))"
   ]
  },
  {
   "cell_type": "code",
   "execution_count": 68,
   "metadata": {},
   "outputs": [],
   "source": [
    "cliques = report1.get_cliques()"
   ]
  },
  {
   "cell_type": "code",
   "execution_count": 69,
   "metadata": {},
   "outputs": [
    {
     "name": "stdout",
     "output_type": "stream",
     "text": [
      "18708038\n"
     ]
    }
   ],
   "source": [
    "print(len([x for x in cliques if len(x) > 6]))"
   ]
  },
  {
   "cell_type": "markdown",
   "metadata": {},
   "source": [
    "The size of the maximal clique is 18!"
   ]
  },
  {
   "cell_type": "code",
   "execution_count": 70,
   "metadata": {},
   "outputs": [
    {
     "name": "stdout",
     "output_type": "stream",
     "text": [
      "## Naive Bron–Kerbosch algorithm\n",
      "37490038 recursive calls\n",
      "Clique 0\n",
      "People IDs: ['87', '183', '128', '28', '106', '62', '107', '21', '212', '256', '303', '129', '114', '371', '81', '434', '405', '249']\n",
      "Department IDs: ['34', '4', '5', '11', '38', '36', '36', '9', '34', '4', '20', '4', '10', '16', '15', '34', '38', '14']\n",
      "Clique 1\n",
      "People IDs: ['87', '183', '128', '28', '106', '62', '107', '21', '212', '303', '129', '329', '114', '371', '81', '434', '405', '249']\n",
      "Department IDs: ['34', '4', '5', '11', '38', '36', '36', '9', '34', '20', '4', '8', '10', '16', '15', '34', '38', '14']\n",
      "Clique 2\n",
      "People IDs: ['87', '183', '128', '28', '106', '62', '21', '212', '256', '303', '365', '129', '114', '371', '81', '434', '405', '249']\n",
      "Department IDs: ['34', '4', '5', '11', '38', '36', '9', '34', '4', '20', '14', '4', '10', '16', '15', '34', '38', '14']\n",
      "Clique 3\n",
      "People IDs: ['87', '183', '128', '28', '106', '62', '21', '212', '303', '365', '129', '329', '114', '371', '81', '434', '405', '249']\n",
      "Department IDs: ['34', '4', '5', '11', '38', '36', '9', '34', '20', '14', '4', '8', '10', '16', '15', '34', '38', '14']\n",
      "Clique 4\n",
      "People IDs: ['87', '183', '128', '106', '329', '371', '62', '107', '21', '212', '303', '129', '114', '211', '81', '434', '405', '249']\n",
      "Department IDs: ['34', '4', '5', '38', '8', '16', '36', '36', '9', '34', '20', '4', '10', '22', '15', '34', '38', '14']\n",
      "Clique 5\n",
      "People IDs: ['87', '183', '128', '106', '329', '371', '62', '107', '21', '212', '303', '129', '114', '211', '249', '434', '405', '210']\n",
      "Department IDs: ['34', '4', '5', '38', '8', '16', '36', '36', '9', '34', '20', '4', '10', '22', '14', '34', '38', '19']\n",
      "Clique 6\n",
      "People IDs: ['87', '183', '128', '106', '329', '371', '62', '21', '212', '303', '365', '129', '114', '211', '81', '434', '405', '249']\n",
      "Department IDs: ['34', '4', '5', '38', '8', '16', '36', '9', '34', '20', '14', '4', '10', '22', '15', '34', '38', '14']\n",
      "Clique 7\n",
      "People IDs: ['87', '183', '128', '106', '329', '371', '62', '21', '212', '303', '365', '129', '114', '211', '249', '434', '405', '210']\n",
      "Department IDs: ['34', '4', '5', '38', '8', '16', '36', '9', '34', '20', '14', '4', '10', '22', '14', '34', '38', '19']\n",
      "Clique 8\n",
      "People IDs: ['87', '183', '128', '106', '371', '249', '62', '107', '21', '212', '256', '303', '129', '114', '211', '434', '81', '405']\n",
      "Department IDs: ['34', '4', '5', '38', '16', '14', '36', '36', '9', '34', '4', '20', '4', '10', '22', '34', '15', '38']\n",
      "Clique 9\n",
      "People IDs: ['87', '183', '128', '106', '371', '249', '62', '107', '21', '212', '256', '303', '129', '114', '211', '434', '405', '210']\n",
      "Department IDs: ['34', '4', '5', '38', '16', '14', '36', '36', '9', '34', '4', '20', '4', '10', '22', '34', '38', '19']\n",
      "\n"
     ]
    }
   ],
   "source": [
    "report1.print_max(10)"
   ]
  },
  {
   "cell_type": "markdown",
   "metadata": {},
   "source": [
    "### Visualize a clique breakdown by department as a pie chart \n",
    "\n",
    "The numbers labelling the wedges are the department ID numbers. Since there are many departments represented in the maximum cliques, we hypothesize that the EU Research institution where this network of emails came from has many interdisciplinary teams."
   ]
  },
  {
   "cell_type": "code",
   "execution_count": 62,
   "metadata": {},
   "outputs": [
    {
     "name": "stdout",
     "output_type": "stream",
     "text": [
      "Pie chart of department distribution of Cliques\n"
     ]
    },
    {
     "data": {
      "image/png": "[encoded data removed]",
      "text/plain": [
       "<Figure size 432x288 with 1 Axes>"
      ]
     },
     "metadata": {},
     "output_type": "display_data"
    }
   ],
   "source": [
    "num = 1 # Change this to change which clique you are visualizing\n",
    "\n",
    "report1.sort_cliques()\n",
    "cliques = report1.get_cliques()[num]\n",
    "\n",
    "products = []\n",
    "departments = {}\n",
    "for el in cliques:\n",
    "    products.append(el)\n",
    "    dep = get_department(el)\n",
    "    if dep in departments:\n",
    "        departments[dep] += 1\n",
    "    else:\n",
    "        departments[dep] = 1\n",
    "\n",
    "matplotlib.pyplot.pie(departments.values(), labels=departments.keys())\n",
    "\n",
    "print(\"Pie chart of department distribution of Cliques\")"
   ]
  },
  {
   "cell_type": "markdown",
   "metadata": {},
   "source": [
    "### Implement Bron-Kerbosch Algorithm with a Pivot\n",
    "\n",
    "Implement Bron–Kerbosch algorithm with a pivot. Randomly pick a vertex u from `candidates` or `excluded`. The maximal clique must include either u or one of its non-neighbors."
   ]
  },
  {
   "cell_type": "code",
   "execution_count": 72,
   "metadata": {},
   "outputs": [],
   "source": [
    "def bronKerbosch2(clique, candidates, excluded, reporter):\n",
    "    '''Bron–Kerbosch algorithm with pivot'''\n",
    "    reporter.inc_count()\n",
    "    if not candidates and not excluded:\n",
    "        if len(clique) >= 3:\n",
    "            reporter.record(clique)\n",
    "        return\n",
    "    u = pick_pivot(candidates) or pick_pivot(excluded)\n",
    "    # only consider u or its non neighbors\n",
    "    for v in list(candidates.difference(copurchases[u])):\n",
    "        new_candidates = candidates.intersection(copurchases[v])\n",
    "        new_excluded = candidates.intersection(copurchases[v])\n",
    "        bronKerbosch2(clique+[v], new_candidates, new_excluded, reporter)\n",
    "        candidates.remove(v)\n",
    "        excluded.add(v)\n",
    "        \n",
    "def pick_pivot(nodes):\n",
    "    if nodes:\n",
    "        return random.sample(nodes, 1)[0]"
   ]
  },
  {
   "cell_type": "code",
   "execution_count": 73,
   "metadata": {},
   "outputs": [
    {
     "name": "stdout",
     "output_type": "stream",
     "text": [
      "Pivot method: 29.357981204986572\n"
     ]
    }
   ],
   "source": [
    "start = time.time()\n",
    "report2 = Reporter('## %s' % bronKerbosch2.__doc__)\n",
    "bronKerbosch2([], set(copurchases.keys()), set(), report2)\n",
    "end = time.time()\n",
    "print('Pivot method:', end - start)"
   ]
  },
  {
   "cell_type": "code",
   "execution_count": 74,
   "metadata": {},
   "outputs": [
    {
     "name": "stdout",
     "output_type": "stream",
     "text": [
      "## Bron–Kerbosch algorithm with pivot\n",
      "1809875 recursive calls\n",
      "Clique 0\n",
      "People IDs: ['87', '183', '106', '303', '28', '107', '129', '405', '62', '256', '249', '371', '81', '21', '114', '434', '212', '128']\n",
      "Department IDs: ['34', '4', '38', '20', '11', '36', '4', '38', '36', '4', '14', '16', '15', '9', '10', '34', '34', '5']\n",
      "Clique 1\n",
      "People IDs: ['87', '183', '106', '303', '28', '107', '129', '405', '62', '329', '81', '249', '371', '114', '128', '434', '21', '212']\n",
      "Department IDs: ['34', '4', '38', '20', '11', '36', '4', '38', '36', '8', '15', '14', '16', '10', '5', '34', '9', '34']\n",
      "Clique 2\n",
      "People IDs: ['87', '183', '106', '303', '28', '365', '212', '128', '114', '405', '81', '434', '62', '256', '371', '249', '129', '21']\n",
      "Department IDs: ['34', '4', '38', '20', '11', '14', '34', '5', '10', '38', '15', '34', '36', '4', '16', '14', '4', '9']\n",
      "Clique 3\n",
      "People IDs: ['87', '183', '106', '303', '28', '365', '212', '128', '114', '405', '81', '434', '62', '329', '249', '371', '129', '21']\n",
      "Department IDs: ['34', '4', '38', '20', '11', '14', '34', '5', '10', '38', '15', '34', '36', '8', '14', '16', '4', '9']\n",
      "Clique 4\n",
      "People IDs: ['87', '183', '106', '303', '365', '249', '210', '212', '434', '371', '21', '114', '211', '405', '256', '128', '62', '129']\n",
      "Department IDs: ['34', '4', '38', '20', '14', '14', '19', '34', '34', '16', '9', '10', '22', '38', '4', '5', '36', '4']\n",
      "Clique 5\n",
      "People IDs: ['87', '183', '106', '303', '365', '249', '210', '212', '434', '371', '21', '114', '211', '405', '329', '128', '62', '129']\n",
      "Department IDs: ['34', '4', '38', '20', '14', '14', '19', '34', '34', '16', '9', '10', '22', '38', '8', '5', '36', '4']\n",
      "Clique 6\n",
      "People IDs: ['87', '183', '106', '303', '365', '249', '81', '211', '62', '114', '212', '128', '256', '129', '405', '434', '371', '21']\n",
      "Department IDs: ['34', '4', '38', '20', '14', '14', '15', '22', '36', '10', '34', '5', '4', '4', '38', '34', '16', '9']\n",
      "Clique 7\n",
      "People IDs: ['87', '183', '106', '303', '365', '249', '81', '211', '62', '114', '212', '128', '329', '405', '434', '371', '21', '129']\n",
      "Department IDs: ['34', '4', '38', '20', '14', '14', '15', '22', '36', '10', '34', '5', '8', '38', '34', '16', '9', '4']\n",
      "Clique 8\n",
      "People IDs: ['87', '183', '106', '303', '329', '434', '62', '81', '249', '21', '128', '405', '107', '212', '371', '211', '114', '129']\n",
      "Department IDs: ['34', '4', '38', '20', '8', '34', '36', '15', '14', '9', '5', '38', '36', '34', '16', '22', '10', '4']\n",
      "Clique 9\n",
      "People IDs: ['87', '183', '106', '303', '329', '434', '62', '210', '114', '211', '128', '129', '249', '212', '371', '405', '21', '107']\n",
      "Department IDs: ['34', '4', '38', '20', '8', '34', '36', '19', '10', '22', '5', '4', '14', '34', '16', '38', '9', '36']\n",
      "\n"
     ]
    }
   ],
   "source": [
    "report2.print_max(10)"
   ]
  },
  {
   "cell_type": "code",
   "execution_count": null,
   "metadata": {},
   "outputs": [],
   "source": []
  }
 ],
 "metadata": {
  "kernelspec": {
   "display_name": "Python 3",
   "language": "python",
   "name": "python3"
  },
  "language_info": {
   "codemirror_mode": {
    "name": "ipython",
    "version": 3
   },
   "file_extension": ".py",
   "mimetype": "text/x-python",
   "name": "python",
   "nbconvert_exporter": "python",
   "pygments_lexer": "ipython3",
   "version": "3.6.8"
  }
 },
 "nbformat": 4,
 "nbformat_minor": 2
}

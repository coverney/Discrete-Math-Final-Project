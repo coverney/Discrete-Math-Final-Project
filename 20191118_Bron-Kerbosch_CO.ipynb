{
 "cells": [
  {
   "cell_type": "code",
   "execution_count": 1,
   "metadata": {},
   "outputs": [],
   "source": [
    "import pandas as pd\n",
    "# import thinkplot\n",
    "import numpy as np\n",
    "import re\n",
    "# from tqdm import tqdm\n",
    "# from reporter import Reporter\n",
    "import random\n",
    "import time\n",
    "import pickle"
   ]
  },
  {
   "cell_type": "markdown",
   "metadata": {},
   "source": [
    "Import the dictionary of ASIN IDs as keys to product titles as values:"
   ]
  },
  {
   "cell_type": "code",
   "execution_count": 2,
   "metadata": {},
   "outputs": [],
   "source": [
    "file_name = \"ID_map-11-18\"\n",
    "picklefile = open(file_name,'rb')\n",
    "ID_map = pickle.load(picklefile)\n",
    "\n",
    "# Function for getting the name based on an ASIN ID:\n",
    "def get_product_name(ASIN):\n",
    "    if ASIN in ID_map:\n",
    "        return ID_map[ASIN]\n",
    "    else:\n",
    "        print(\"There was an error with %s\", ASIN)"
   ]
  },
  {
   "cell_type": "markdown",
   "metadata": {},
   "source": [
    "Import adjacency matrix saved as copurchases pickle file"
   ]
  },
  {
   "cell_type": "code",
   "execution_count": 3,
   "metadata": {},
   "outputs": [],
   "source": [
    "# open the file for writing\n",
    "file_name = \"copurchases-11-18\"\n",
    "picklefile = open(file_name,'rb')\n",
    "copurchases = pickle.load(picklefile)"
   ]
  },
  {
   "cell_type": "markdown",
   "metadata": {},
   "source": [
    "Class for Reporter object that stores cliques, and can print them"
   ]
  },
  {
   "cell_type": "code",
   "execution_count": 4,
   "metadata": {},
   "outputs": [],
   "source": [
    "class Reporter(object):\n",
    "    def __init__(self, name):\n",
    "        self.name = name\n",
    "        self.cnt = 0\n",
    "        self.cliques = []\n",
    "\n",
    "    def inc_count(self):\n",
    "        self.cnt += 1\n",
    "\n",
    "    def record(self, clique):\n",
    "        self.cliques.append(clique)\n",
    "\n",
    "    def sort_cliques(self):\n",
    "        self.cliques.sort(key=len, reverse=True)\n",
    "\n",
    "    def print_max(self, n):\n",
    "        # print the n largest cliques\n",
    "        self.sort_cliques()\n",
    "        print(self.name)\n",
    "        print('%d recursive calls' % self.cnt)\n",
    "        for i in range(n):\n",
    "            clique = self.cliques[i]\n",
    "            products = []\n",
    "            for ASIN in clique:\n",
    "                products.append(get_product_name(ASIN))\n",
    "            print('%d: %s' % (i, products))\n",
    "        print()\n",
    "\n",
    "    def print_report(self):\n",
    "        print(self.name)\n",
    "        print('%d recursive calls' % self.cnt)\n",
    "        for i, clique in enumerate(self.cliques):\n",
    "            products = []\n",
    "            for ASIN in clique:\n",
    "                products.append(get_product_name(ASIN))\n",
    "            print('%d: %s' % (i, products))\n",
    "        print()\n"
   ]
  },
  {
   "cell_type": "markdown",
   "metadata": {},
   "source": [
    "Implement naive Bron–Kerbosch algorithm"
   ]
  },
  {
   "cell_type": "code",
   "execution_count": 5,
   "metadata": {},
   "outputs": [],
   "source": [
    "def bronKerbosch1(clique, candidates, excluded, reporter):\n",
    "    '''Naive Bron–Kerbosch algorithm'''\n",
    "    reporter.inc_count()\n",
    "    if not candidates and not excluded:\n",
    "        if len(clique) >= 3:\n",
    "            reporter.record(clique)\n",
    "        return\n",
    "    \n",
    "    for v in list(candidates):\n",
    "        new_candidates = candidates.intersection(copurchases[v])\n",
    "        new_excluded = candidates.intersection(copurchases[v])\n",
    "        bronKerbosch1(clique+[v], new_candidates, new_excluded, reporter)\n",
    "        candidates.remove(v)\n",
    "        excluded.add(v)"
   ]
  },
  {
   "cell_type": "code",
   "execution_count": 6,
   "metadata": {},
   "outputs": [
    {
     "name": "stdout",
     "output_type": "stream",
     "text": [
      "Naive method: 3.9209046363830566\n"
     ]
    }
   ],
   "source": [
    "start = time.time()\n",
    "report1 = Reporter('## %s' % bronKerbosch1.__doc__)\n",
    "bronKerbosch1([], set(copurchases.keys()), set(), report1)\n",
    "end = time.time()\n",
    "print('Naive method:', end - start)"
   ]
  },
  {
   "cell_type": "code",
   "execution_count": 7,
   "metadata": {},
   "outputs": [
    {
     "name": "stdout",
     "output_type": "stream",
     "text": [
      "## Naive Bron–Kerbosch algorithm\n",
      "1525748 recursive calls\n",
      "0: ['Until You', 'Whitney, My Love', 'Once and Always', 'A Kingdom of Dreams', 'Something Wonderful', 'Almost Heaven']\n",
      "1: ['The Return of Santiago', 'Tales of the Galactic Midway', 'Tales of the Velvet Comet', 'The Outpost', 'Birthright: The Book of Man', 'Santiago: A Myth of the Far Future']\n",
      "2: [\"Greater Works: Experiencing God's Power\", 'Smith Wigglesworth on Healing', 'Smith Wigglesworth on the Holy Spirit', 'Wigglesworth on the Anointing', 'Ever Increasing Faith', 'Faith That Prevails']\n",
      "3: ['The Unbreakable Code', 'Winds of Freedom: The Story of the Navajo Code Talkers of World War II', 'Warriors: Navajo Code Talkers', 'Unsung Heroes of World War II: The Story of the Navajo Code Talkers', 'Navajo Weapon: The Navajo Code Talkers (Native American Culture)', 'Navajo Code Talkers']\n",
      "4: ['The Book of Words (Sefer Shel Devarim): Talking Spiritual Life, Living Spiritual Talk', 'Honey from the Rock: An Introduction to Jewish Mysticism', 'Invisible Lines of Connection: Sacred Stories of the Ordinary', 'God Was in This Place and I, I Did Not Know: Finding Self, Spirituality and Ultimate Meaning', 'Eyes Remade for Wonder: A Lawrence Kushner Reader', 'The Book of Letters: A Mystical Alef-Bait']\n",
      "5: ['The Next Accident', 'The Other Daughter', 'The Third Victim', 'The Perfect Husband', 'The Killing Hour', 'The Survivors Club']\n",
      "6: ['Wee Sing: The Marvelous Musical Mansion', 'Wee Sing: The Big Rock Candy Mountains', \"Wee Sing: King Cole's Party\", 'Wee Sing: Wee Sing Together - A Magical Musical', 'Wee Sing: Wee Sing In Sillyville', \"Wee Sing: Grandpa's Magical Toys\"]\n",
      "7: ['Primal Fear', 'Reign in Hell', 'Chameleon', 'Thai Horse', 'The Hunt', 'Show of Evil']\n",
      "8: ['Everyday Fashions, 1909-1920, as Pictured in Sears Catalogs (Sears Catalogs)', 'Everyday Fashions of the Sixties as Pictured in Sears Catalogs (Sears Catalogs)', 'Everyday Fashions of the Thirties as Pictured in Sears Catalogs (Dover Books on Costume & Textiles)', 'Everyday Fashions of the Twenties As Pictured in Sears and Other Catalogs (Sears Catalogs)', 'Everyday Fashions of the Fifties as Pictured in Sears Catalogs (Dover Books on Fashion)', 'Everyday Fashions of the Forties as Pictured in Sears Catalogs (Sears Catalogs)']\n",
      "9: ['At the Doorway Again', 'So Tonight That I Might See', 'Suzanne', 'Among My Swan', 'She Hangs Brightly', 'Bavarian Fruit Bread']\n",
      "\n"
     ]
    }
   ],
   "source": [
    "report1.print_max(10)"
   ]
  },
  {
   "cell_type": "markdown",
   "metadata": {},
   "source": [
    "Implement Bron–Kerbosch algorithm with a pivot. Randomly pick a vertex u from `candidates` or `excluded`. The maximal clique must include either u or one of its non-neighbors."
   ]
  },
  {
   "cell_type": "code",
   "execution_count": 8,
   "metadata": {},
   "outputs": [],
   "source": [
    "def bronKerbosch2(clique, candidates, excluded, reporter):\n",
    "    '''Bron–Kerbosch algorithm with pivot'''\n",
    "    reporter.inc_count()\n",
    "    if not candidates and not excluded:\n",
    "        if len(clique) >= 3:\n",
    "            reporter.record(clique)\n",
    "        return\n",
    "    u = pick_pivot(candidates) or pick_pivot(excluded)\n",
    "    # only consider u or its non neighbors\n",
    "    for v in list(candidates.difference(copurchases[u])):\n",
    "        new_candidates = candidates.intersection(copurchases[v])\n",
    "        new_excluded = candidates.intersection(copurchases[v])\n",
    "        bronKerbosch2(clique+[v], new_candidates, new_excluded, reporter)\n",
    "        candidates.remove(v)\n",
    "        excluded.add(v)\n",
    "        \n",
    "def pick_pivot(nodes):\n",
    "    if nodes:\n",
    "        return random.sample(nodes, 1)[0]"
   ]
  },
  {
   "cell_type": "code",
   "execution_count": 9,
   "metadata": {},
   "outputs": [
    {
     "name": "stdout",
     "output_type": "stream",
     "text": [
      "Pivot method: 5.460216522216797\n"
     ]
    }
   ],
   "source": [
    "start = time.time()\n",
    "report2 = Reporter('## %s' % bronKerbosch2.__doc__)\n",
    "bronKerbosch2([], set(copurchases.keys()), set(), report2)\n",
    "end = time.time()\n",
    "print('Pivot method:', end - start)"
   ]
  },
  {
   "cell_type": "code",
   "execution_count": 44,
   "metadata": {},
   "outputs": [
    {
     "name": "stdout",
     "output_type": "stream",
     "text": [
      "## Bron–Kerbosch algorithm with pivot\n",
      "1270896 recursive calls\n",
      "0: ['A Basic Guide To Importing', 'Export/Import Procedures and Documentation (Export/Import Procedures & Documentation)', 'Importing Into the United States: : A Guide for Commercial Importers', 'Building an Import/Export Business, 3rd Edition', 'Import/Export: How to Get Started in International Trade', \"Start Your Own Import/Export Business (Entrepreneur Magazine's Start Ups)\"]\n",
      "1: [\"Dr. Jensen's Guide to Body Chemistry & Nutrition\", \"Dr. Jensen's Juicing Therapy : Nature's Way to Better Health and a Longer Life\", \"Dr. Jensen's Guide to Diet and Detoxification : Healthy Secrets from Around the World\", \"Dr. Jensen's Nutrition Handbook : A Daily Regimen for Healthy Living\", 'Foods That Heal', \"Dr. Jensen's Guide to Better Bowel Care: A Complete Program for Tissue Cleansing Through Bowel Management\"]\n",
      "2: ['Hollywood', 'Factotum', 'Notes of a Dirty Old Man', 'Post Office', 'Women', 'Ham on Rye']\n",
      "3: ['Creative Companion: How to Free Your Creative Spirit', 'Living Juicy: Daily Morsels for Your Creative Soul', 'Inspiration Sandwich: Stories to Inspire Our Creative Freedom', 'The BODACIOUS BOOK OF SUCCULENCE : DARING TO LIVE YOUR SUCCULENT WILD LIFE', 'Succulent Wild Woman', 'Eat Mangoes Naked : Finding Pleasure Everywhere (and dancing with the Pits)']\n",
      "4: ['The Best Way to Play: Little Bill Books for Beginning Readers', 'Money Troubles (A Little Bill Book for Beginning Readers)', 'My Big Lie (A Little Bill Book for Beginning Readers)', 'One Dark and Scary Night (A Little Bill Book for Beginning Readers)', 'The Meanest Thing to Say (A Little Bill Book for Beginning Readers)', 'The Treasure Hunt (A Little Bill Book for Beginning Readers)']\n",
      "5: ['180 Ways To Walk The Customer Service Talk', 'Customer Service 101: Basic Lessons to Be Your Best', 'Great Customer Service on the Telephone (Worksmart Series)', \"Super Service: Seven Keys to Delivering Great Customer Service...Even When You Don't Feel Like It!...Even When They Don't Deserve It!\", 'The Big Book of Customer Service Training Games', 'Coaching Knock Your Socks Off Service']\n",
      "6: ['Underdog - The Gangster Chronicles', 'Underdog vs. Simon Barsinister', 'Underdog - The Alien Chronicles', 'Underdog vs. Overcat', 'Underdog - The Mad Scientist Chronicles', 'Underdog vs. Riff Raff']\n",
      "7: ['Witchcraft and Magic in Europe: Ancient Greece and Rome (Witchcraft and Magic in Europe (Paperback))', 'Witchcraft and Magic in Europe: The Period of the Witch Trials (Witchcraft and Magic in Europe (Paperback))', 'Witchcraft and Magic in Europe: The Twentieth Century (Witchcraft and Magic in Europe (Paperback))', 'Biblical and Pagan Societies (Witchcraft and Magic in Europe)', 'Witchcraft and Magic in Europe: The Middle Ages (Witchcraft and Magic in Europe)', 'Witchcraft and Magic in Europe: The Eighteenth and Nineteenth Centuries (Witchcraft and Magic in Europe (Paperback))']\n",
      "8: ['Dire Straits', 'Brothers in Arms', 'On Every Street', 'Love over Gold', 'Communiqué', 'Making Movies']\n",
      "9: ['Last Man Standing', 'Total Control', 'Absolute Power', 'Wish You Well', 'The Winner', 'The Simple Truth']\n",
      "\n"
     ]
    }
   ],
   "source": [
    "report2.print_max(10)"
   ]
  },
  {
   "cell_type": "markdown",
   "metadata": {},
   "source": [
    "Implement Bron–Kerbosch algorithm with a pivot and degeneracy ordering. Degeneracy ordering is the ordering of vertices such that each vertex has d or fewer neighbors that come later in the ordering. Select vertex of minimum degree among remaining vertices."
   ]
  },
  {
   "cell_type": "code",
   "execution_count": 54,
   "metadata": {},
   "outputs": [],
   "source": [
    "from collections import deque \n",
    "\n",
    "def bronKerbosch3(clique, candidates, excluded, reporter):\n",
    "    '''Bron–Kerbosch algorithm with pivot and degeneracy ordering'''\n",
    "    reporter.inc_count()\n",
    "    if not candidates and not excluded:\n",
    "        if len(clique) >= 3:\n",
    "            reporter.record(clique)\n",
    "        return\n",
    "    for v in list(degeneracy_order(candidates)):\n",
    "        new_candidates = candidates.intersection(copurchases[v])\n",
    "        new_excluded = candidates.intersection(copurchases[v])\n",
    "        bronKerbosch2(clique.append(v), new_candidates, new_excluded, reporter)\n",
    "        candidates.remove(v)\n",
    "        excluded.add(v)\n",
    "        \n",
    "def degeneracy_order(nodes):\n",
    "    deg = {}\n",
    "    for node in nodes:\n",
    "        deg[node] = len(copurchases[node])\n",
    "    \n",
    "    output = []\n",
    "    while deg:\n",
    "        # find min degree\n",
    "        i, d = min(deg.items(), key=lambda pair:pair[1])\n",
    "        output.append(i)\n",
    "        del deg[i]\n",
    "        for v in copurchases[i]:\n",
    "            if v in deg:\n",
    "                deg[v] -= 1\n",
    "    return output"
   ]
  },
  {
   "cell_type": "code",
   "execution_count": 57,
   "metadata": {},
   "outputs": [],
   "source": [
    "# start = time.time()\n",
    "# res = degeneracy_order(set(copurchases.keys()))\n",
    "# print(res[:10])\n",
    "# end = time.time()\n",
    "# print('Time to get degeneracy ordering:', end - start)"
   ]
  },
  {
   "cell_type": "code",
   "execution_count": 56,
   "metadata": {},
   "outputs": [],
   "source": [
    "# start = time.time()\n",
    "# report3 = Reporter('## %s' % bronKerbosch3.__doc__)\n",
    "# bronKerbosch3([], set(copurchases.keys()), set(), report3)\n",
    "# end = time.time()\n",
    "# print('Pivot method with degeneracy ordering:', end - start)"
   ]
  },
  {
   "cell_type": "code",
   "execution_count": null,
   "metadata": {},
   "outputs": [],
   "source": [
    "report3.print_max(10)"
   ]
  },
  {
   "cell_type": "code",
   "execution_count": 60,
   "metadata": {},
   "outputs": [],
   "source": [
    "from collections import defaultdict\n",
    "\n",
    "def find_cliques(graph):\n",
    "    p = set(graph.keys())\n",
    "    r = set()\n",
    "    x = set()\n",
    "    cliques = []\n",
    "    for v in degeneracy_ordering(graph):\n",
    "        neighs = graph[v]\n",
    "        find_cliques_pivot(graph, r.union([v]), p.intersection(neighs), x.intersection(neighs), cliques)\n",
    "        p.remove(v)\n",
    "        x.add(v)\n",
    "    return sorted(cliques, lambda x: len(x))\n",
    "\n",
    "def find_cliques_pivot(graph, r, p, x, cliques):\n",
    "    if len(p) == 0 and len(x) == 0:\n",
    "        cliques.append(r)\n",
    "    else:\n",
    "        u = iter(p.union(x)).next()\n",
    "        for v in p.difference(graph[u]):\n",
    "            neighs = graph[v]\n",
    "            find_cliques_pivot(graph, r.union([v]), p.intersection(neighs), x.intersection(neighs), cliques)\n",
    "            p.remove(v)\n",
    "            x.add(v)\n",
    "\n",
    "def degeneracy_ordering(graph):\n",
    "    ordering = []\n",
    "    ordering_set = set()\n",
    "    degrees = defaultdict(lambda : 0)\n",
    "    degen = defaultdict(list)\n",
    "    max_deg = -1\n",
    "    for v in graph:\n",
    "        deg = len(graph[v])\n",
    "        degen[deg].append(v)\n",
    "        degrees[v] = deg\n",
    "        if deg > max_deg:\n",
    "            max_deg = deg\n",
    "\n",
    "    while True:\n",
    "        i = 0\n",
    "        while i <= max_deg:\n",
    "            if len(degen[i]) != 0:\n",
    "                break\n",
    "            i += 1\n",
    "        else:\n",
    "            break\n",
    "        v = degen[i].pop()\n",
    "        ordering.append(v)\n",
    "        ordering_set.add(v)\n",
    "        for w in graph[v]:\n",
    "            if w not in ordering_set:\n",
    "                deg = degrees[w]\n",
    "                degen[deg].remove(w)\n",
    "                if deg > 0:\n",
    "                    degrees[w] -= 1\n",
    "                    degen[deg - 1].append(w)\n",
    "\n",
    "    ordering.reverse()\n",
    "    return ordering"
   ]
  },
  {
   "cell_type": "code",
   "execution_count": 61,
   "metadata": {},
   "outputs": [
    {
     "ename": "ValueError",
     "evalue": "list.remove(x): x not in list",
     "output_type": "error",
     "traceback": [
      "\u001b[1;31m---------------------------------------------------------------------------\u001b[0m",
      "\u001b[1;31mValueError\u001b[0m                                Traceback (most recent call last)",
      "\u001b[1;32m<ipython-input-61-8fed22361af6>\u001b[0m in \u001b[0;36m<module>\u001b[1;34m\u001b[0m\n\u001b[0;32m      1\u001b[0m \u001b[0mstart\u001b[0m \u001b[1;33m=\u001b[0m \u001b[0mtime\u001b[0m\u001b[1;33m.\u001b[0m\u001b[0mtime\u001b[0m\u001b[1;33m(\u001b[0m\u001b[1;33m)\u001b[0m\u001b[1;33m\u001b[0m\u001b[1;33m\u001b[0m\u001b[0m\n\u001b[1;32m----> 2\u001b[1;33m \u001b[0mres\u001b[0m \u001b[1;33m=\u001b[0m \u001b[0mfind_cliques\u001b[0m\u001b[1;33m(\u001b[0m\u001b[0mcopurchases\u001b[0m\u001b[1;33m)\u001b[0m\u001b[1;33m\u001b[0m\u001b[1;33m\u001b[0m\u001b[0m\n\u001b[0m\u001b[0;32m      3\u001b[0m \u001b[0mprint\u001b[0m\u001b[1;33m(\u001b[0m\u001b[1;34m'Pivot method with degeneracy ordering:'\u001b[0m\u001b[1;33m,\u001b[0m \u001b[0mend\u001b[0m \u001b[1;33m-\u001b[0m \u001b[0mstart\u001b[0m\u001b[1;33m)\u001b[0m\u001b[1;33m\u001b[0m\u001b[1;33m\u001b[0m\u001b[0m\n\u001b[0;32m      4\u001b[0m \u001b[0mend\u001b[0m \u001b[1;33m=\u001b[0m \u001b[0mtime\u001b[0m\u001b[1;33m.\u001b[0m\u001b[0mtime\u001b[0m\u001b[1;33m(\u001b[0m\u001b[1;33m)\u001b[0m\u001b[1;33m\u001b[0m\u001b[1;33m\u001b[0m\u001b[0m\n",
      "\u001b[1;32m<ipython-input-60-ede6ce3fb070>\u001b[0m in \u001b[0;36mfind_cliques\u001b[1;34m(graph)\u001b[0m\n\u001b[0;32m      6\u001b[0m     \u001b[0mx\u001b[0m \u001b[1;33m=\u001b[0m \u001b[0mset\u001b[0m\u001b[1;33m(\u001b[0m\u001b[1;33m)\u001b[0m\u001b[1;33m\u001b[0m\u001b[1;33m\u001b[0m\u001b[0m\n\u001b[0;32m      7\u001b[0m     \u001b[0mcliques\u001b[0m \u001b[1;33m=\u001b[0m \u001b[1;33m[\u001b[0m\u001b[1;33m]\u001b[0m\u001b[1;33m\u001b[0m\u001b[1;33m\u001b[0m\u001b[0m\n\u001b[1;32m----> 8\u001b[1;33m     \u001b[1;32mfor\u001b[0m \u001b[0mv\u001b[0m \u001b[1;32min\u001b[0m \u001b[0mdegeneracy_ordering\u001b[0m\u001b[1;33m(\u001b[0m\u001b[0mgraph\u001b[0m\u001b[1;33m)\u001b[0m\u001b[1;33m:\u001b[0m\u001b[1;33m\u001b[0m\u001b[1;33m\u001b[0m\u001b[0m\n\u001b[0m\u001b[0;32m      9\u001b[0m         \u001b[0mneighs\u001b[0m \u001b[1;33m=\u001b[0m \u001b[0mgraph\u001b[0m\u001b[1;33m[\u001b[0m\u001b[0mv\u001b[0m\u001b[1;33m]\u001b[0m\u001b[1;33m\u001b[0m\u001b[1;33m\u001b[0m\u001b[0m\n\u001b[0;32m     10\u001b[0m         \u001b[0mfind_cliques_pivot\u001b[0m\u001b[1;33m(\u001b[0m\u001b[0mgraph\u001b[0m\u001b[1;33m,\u001b[0m \u001b[0mr\u001b[0m\u001b[1;33m.\u001b[0m\u001b[0munion\u001b[0m\u001b[1;33m(\u001b[0m\u001b[1;33m[\u001b[0m\u001b[0mv\u001b[0m\u001b[1;33m]\u001b[0m\u001b[1;33m)\u001b[0m\u001b[1;33m,\u001b[0m \u001b[0mp\u001b[0m\u001b[1;33m.\u001b[0m\u001b[0mintersection\u001b[0m\u001b[1;33m(\u001b[0m\u001b[0mneighs\u001b[0m\u001b[1;33m)\u001b[0m\u001b[1;33m,\u001b[0m \u001b[0mx\u001b[0m\u001b[1;33m.\u001b[0m\u001b[0mintersection\u001b[0m\u001b[1;33m(\u001b[0m\u001b[0mneighs\u001b[0m\u001b[1;33m)\u001b[0m\u001b[1;33m,\u001b[0m \u001b[0mcliques\u001b[0m\u001b[1;33m)\u001b[0m\u001b[1;33m\u001b[0m\u001b[1;33m\u001b[0m\u001b[0m\n",
      "\u001b[1;32m<ipython-input-60-ede6ce3fb070>\u001b[0m in \u001b[0;36mdegeneracy_ordering\u001b[1;34m(graph)\u001b[0m\n\u001b[0;32m     51\u001b[0m             \u001b[1;32mif\u001b[0m \u001b[0mw\u001b[0m \u001b[1;32mnot\u001b[0m \u001b[1;32min\u001b[0m \u001b[0mordering_set\u001b[0m\u001b[1;33m:\u001b[0m\u001b[1;33m\u001b[0m\u001b[1;33m\u001b[0m\u001b[0m\n\u001b[0;32m     52\u001b[0m                 \u001b[0mdeg\u001b[0m \u001b[1;33m=\u001b[0m \u001b[0mdegrees\u001b[0m\u001b[1;33m[\u001b[0m\u001b[0mw\u001b[0m\u001b[1;33m]\u001b[0m\u001b[1;33m\u001b[0m\u001b[1;33m\u001b[0m\u001b[0m\n\u001b[1;32m---> 53\u001b[1;33m                 \u001b[0mdegen\u001b[0m\u001b[1;33m[\u001b[0m\u001b[0mdeg\u001b[0m\u001b[1;33m]\u001b[0m\u001b[1;33m.\u001b[0m\u001b[0mremove\u001b[0m\u001b[1;33m(\u001b[0m\u001b[0mw\u001b[0m\u001b[1;33m)\u001b[0m\u001b[1;33m\u001b[0m\u001b[1;33m\u001b[0m\u001b[0m\n\u001b[0m\u001b[0;32m     54\u001b[0m                 \u001b[1;32mif\u001b[0m \u001b[0mdeg\u001b[0m \u001b[1;33m>\u001b[0m \u001b[1;36m0\u001b[0m\u001b[1;33m:\u001b[0m\u001b[1;33m\u001b[0m\u001b[1;33m\u001b[0m\u001b[0m\n\u001b[0;32m     55\u001b[0m                     \u001b[0mdegrees\u001b[0m\u001b[1;33m[\u001b[0m\u001b[0mw\u001b[0m\u001b[1;33m]\u001b[0m \u001b[1;33m-=\u001b[0m \u001b[1;36m1\u001b[0m\u001b[1;33m\u001b[0m\u001b[1;33m\u001b[0m\u001b[0m\n",
      "\u001b[1;31mValueError\u001b[0m: list.remove(x): x not in list"
     ]
    }
   ],
   "source": [
    "start = time.time()\n",
    "res = find_cliques(copurchases)\n",
    "print('Pivot method with degeneracy ordering:', end - start)\n",
    "end = time.time()"
   ]
  },
  {
   "cell_type": "code",
   "execution_count": null,
   "metadata": {},
   "outputs": [],
   "source": []
  }
 ],
 "metadata": {
  "kernelspec": {
   "display_name": "Python 3",
   "language": "python",
   "name": "python3"
  },
  "language_info": {
   "codemirror_mode": {
    "name": "ipython",
    "version": 3
   },
   "file_extension": ".py",
   "mimetype": "text/x-python",
   "name": "python",
   "nbconvert_exporter": "python",
   "pygments_lexer": "ipython3",
   "version": "3.6.8"
  }
 },
 "nbformat": 4,
 "nbformat_minor": 2
}

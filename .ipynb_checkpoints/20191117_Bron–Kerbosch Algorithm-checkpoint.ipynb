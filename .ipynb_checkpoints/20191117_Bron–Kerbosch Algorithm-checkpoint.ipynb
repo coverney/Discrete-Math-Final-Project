{
 "cells": [
  {
   "cell_type": "code",
   "execution_count": 39,
   "metadata": {},
   "outputs": [],
   "source": [
    "import pandas as pd\n",
    "import thinkplot\n",
    "import numpy as np\n",
    "import re\n",
    "from tqdm import tqdm\n",
    "# from reporter import Reporter\n",
    "import random\n",
    "import time"
   ]
  },
  {
   "cell_type": "code",
   "execution_count": 26,
   "metadata": {},
   "outputs": [],
   "source": [
    "class Reporter(object):\n",
    "    def __init__(self, name):\n",
    "        self.name = name\n",
    "        self.cnt = 0\n",
    "        self.cliques = []\n",
    "\n",
    "    def inc_count(self):\n",
    "        self.cnt += 1\n",
    "\n",
    "    def record(self, clique):\n",
    "        self.cliques.append(clique)\n",
    "\n",
    "    def sort_cliques(self):\n",
    "        self.cliques.sort(key=len, reverse=True)\n",
    "\n",
    "    def print_max(self, n):\n",
    "        # print the n largest cliques\n",
    "        self.sort_cliques()\n",
    "        print(self.name)\n",
    "        print('%d recursive calls' % self.cnt)\n",
    "        for i in range(n):\n",
    "            clique = self.cliques[i]\n",
    "            print('%d: %s' % (i, clique))\n",
    "        print()\n",
    "\n",
    "    def print_report(self):\n",
    "        print(self.name)\n",
    "        print('%d recursive calls' % self.cnt)\n",
    "        for i, clique in enumerate(self.cliques):\n",
    "            print('%d: %s' % (i, clique))\n",
    "        print()\n"
   ]
  },
  {
   "cell_type": "markdown",
   "metadata": {},
   "source": [
    "Read in `Amazon0302.txt` as an adjacency matrix. First read in the text file as a Dataframe.\n",
    "\n",
    "Info about Amazon data:\n",
    "- Directed graph (each unordered pair of nodes is saved once): Amazon0302.txt \n",
    "- Amazon product co-purchaisng network from March 02 2003\n",
    "- Nodes: 262111 Edges: 1234877"
   ]
  },
  {
   "cell_type": "code",
   "execution_count": 2,
   "metadata": {},
   "outputs": [
    {
     "data": {
      "text/html": [
       "<div>\n",
       "<style scoped>\n",
       "    .dataframe tbody tr th:only-of-type {\n",
       "        vertical-align: middle;\n",
       "    }\n",
       "\n",
       "    .dataframe tbody tr th {\n",
       "        vertical-align: top;\n",
       "    }\n",
       "\n",
       "    .dataframe thead th {\n",
       "        text-align: right;\n",
       "    }\n",
       "</style>\n",
       "<table border=\"1\" class=\"dataframe\">\n",
       "  <thead>\n",
       "    <tr style=\"text-align: right;\">\n",
       "      <th></th>\n",
       "      <th># FromNodeId</th>\n",
       "      <th>ToNodeId</th>\n",
       "    </tr>\n",
       "  </thead>\n",
       "  <tbody>\n",
       "    <tr>\n",
       "      <th>0</th>\n",
       "      <td>0</td>\n",
       "      <td>1</td>\n",
       "    </tr>\n",
       "    <tr>\n",
       "      <th>1</th>\n",
       "      <td>0</td>\n",
       "      <td>2</td>\n",
       "    </tr>\n",
       "    <tr>\n",
       "      <th>2</th>\n",
       "      <td>0</td>\n",
       "      <td>3</td>\n",
       "    </tr>\n",
       "    <tr>\n",
       "      <th>3</th>\n",
       "      <td>0</td>\n",
       "      <td>4</td>\n",
       "    </tr>\n",
       "    <tr>\n",
       "      <th>4</th>\n",
       "      <td>0</td>\n",
       "      <td>5</td>\n",
       "    </tr>\n",
       "  </tbody>\n",
       "</table>\n",
       "</div>"
      ],
      "text/plain": [
       "   # FromNodeId  ToNodeId\n",
       "0             0         1\n",
       "1             0         2\n",
       "2             0         3\n",
       "3             0         4\n",
       "4             0         5"
      ]
     },
     "execution_count": 2,
     "metadata": {},
     "output_type": "execute_result"
    }
   ],
   "source": [
    "df_transition = pd.read_csv(\"20191116_Amazon0302.txt\",delimiter=\"\\t\", skiprows=[0,1,2])\n",
    "df_transition.head()"
   ]
  },
  {
   "cell_type": "code",
   "execution_count": 3,
   "metadata": {},
   "outputs": [
    {
     "data": {
      "text/html": [
       "<div>\n",
       "<style scoped>\n",
       "    .dataframe tbody tr th:only-of-type {\n",
       "        vertical-align: middle;\n",
       "    }\n",
       "\n",
       "    .dataframe tbody tr th {\n",
       "        vertical-align: top;\n",
       "    }\n",
       "\n",
       "    .dataframe thead th {\n",
       "        text-align: right;\n",
       "    }\n",
       "</style>\n",
       "<table border=\"1\" class=\"dataframe\">\n",
       "  <thead>\n",
       "    <tr style=\"text-align: right;\">\n",
       "      <th></th>\n",
       "      <th>start</th>\n",
       "      <th>end</th>\n",
       "    </tr>\n",
       "  </thead>\n",
       "  <tbody>\n",
       "    <tr>\n",
       "      <th>0</th>\n",
       "      <td>0</td>\n",
       "      <td>1</td>\n",
       "    </tr>\n",
       "    <tr>\n",
       "      <th>1</th>\n",
       "      <td>0</td>\n",
       "      <td>2</td>\n",
       "    </tr>\n",
       "    <tr>\n",
       "      <th>2</th>\n",
       "      <td>0</td>\n",
       "      <td>3</td>\n",
       "    </tr>\n",
       "    <tr>\n",
       "      <th>3</th>\n",
       "      <td>0</td>\n",
       "      <td>4</td>\n",
       "    </tr>\n",
       "    <tr>\n",
       "      <th>4</th>\n",
       "      <td>0</td>\n",
       "      <td>5</td>\n",
       "    </tr>\n",
       "  </tbody>\n",
       "</table>\n",
       "</div>"
      ],
      "text/plain": [
       "   start  end\n",
       "0      0    1\n",
       "1      0    2\n",
       "2      0    3\n",
       "3      0    4\n",
       "4      0    5"
      ]
     },
     "execution_count": 3,
     "metadata": {},
     "output_type": "execute_result"
    }
   ],
   "source": [
    "df_transition.columns = ['start', 'end']\n",
    "df_transition.head()"
   ]
  },
  {
   "cell_type": "markdown",
   "metadata": {},
   "source": [
    "Build adjacency matrix in the form of a dict with vertexes as keys and lists of their neighbors as values"
   ]
  },
  {
   "cell_type": "code",
   "execution_count": 4,
   "metadata": {},
   "outputs": [
    {
     "name": "stdout",
     "output_type": "stream",
     "text": [
      "0\n",
      "100000\n",
      "200000\n",
      "300000\n",
      "400000\n",
      "500000\n",
      "600000\n",
      "700000\n",
      "800000\n",
      "900000\n",
      "1000000\n",
      "1100000\n",
      "1200000\n"
     ]
    }
   ],
   "source": [
    "graph = {}\n",
    "\n",
    "for index, row in df_transition.iterrows():\n",
    "    if index%100000==0:\n",
    "        print(index)\n",
    "    start = row['start']\n",
    "    end = row['end']\n",
    "    if start in graph and end not in graph[start]:\n",
    "        graph[start].append(end)\n",
    "    elif start not in graph:\n",
    "        graph[start] = [end]\n",
    "        \n",
    "    if end in graph and start not in graph[end]:\n",
    "        graph[end].append(start)\n",
    "    elif end not in graph:\n",
    "        graph[end] = [start]"
   ]
  },
  {
   "cell_type": "markdown",
   "metadata": {},
   "source": [
    "Implement naive Bron–Kerbosch algorithm"
   ]
  },
  {
   "cell_type": "code",
   "execution_count": 27,
   "metadata": {},
   "outputs": [],
   "source": [
    "def bronKerbosch1(clique, candidates, excluded, reporter):\n",
    "    '''Naive Bron–Kerbosch algorithm'''\n",
    "    reporter.inc_count()\n",
    "    if not candidates and not excluded:\n",
    "        if len(clique) >= 3:\n",
    "            reporter.record(clique)\n",
    "        return\n",
    "    \n",
    "    for v in list(candidates):\n",
    "        new_candidates = candidates.intersection(graph[v])\n",
    "        new_excluded = candidates.intersection(graph[v])\n",
    "        bronKerbosch1(clique+[v], new_candidates, new_excluded, reporter)\n",
    "        candidates.remove(v)\n",
    "        excluded.add(v)"
   ]
  },
  {
   "cell_type": "code",
   "execution_count": 40,
   "metadata": {},
   "outputs": [
    {
     "name": "stdout",
     "output_type": "stream",
     "text": [
      "Naive method: 12.213986873626709\n"
     ]
    }
   ],
   "source": [
    "start = time.time()\n",
    "report1 = Reporter('## %s' % bronKerbosch1.__doc__)\n",
    "bronKerbosch1([], set(graph.keys()), set(), report1)\n",
    "end = time.time()\n",
    "print('Naive method:', end - start)"
   ]
  },
  {
   "cell_type": "code",
   "execution_count": 41,
   "metadata": {},
   "outputs": [
    {
     "name": "stdout",
     "output_type": "stream",
     "text": [
      "## Naive Bron–Kerbosch algorithm\n",
      "2258288 recursive calls\n",
      "0: [330, 718, 720, 377, 721, 722, 723]\n",
      "1: [2447, 4673, 4674, 4675, 4676, 4677, 5119]\n",
      "2: [2696, 6017, 6018, 6288, 6019, 6020, 6021]\n",
      "3: [9093, 27018, 23599, 40440, 40437, 40438, 40439]\n",
      "4: [13690, 22931, 20325, 22264, 22265, 39388, 22263]\n",
      "5: [29489, 51265, 51266, 119227, 51267, 108853, 32870]\n",
      "6: [32210, 42074, 43258, 75482, 42075, 43259, 42076]\n",
      "7: [39031, 51014, 51015, 39032, 46680, 46996, 46679]\n",
      "8: [41605, 113090, 59366, 59368, 59369, 59370, 59367]\n",
      "9: [65139, 83105, 83107, 94846, 94252, 94253, 94254]\n",
      "\n"
     ]
    }
   ],
   "source": [
    "report1.print_max(10)"
   ]
  },
  {
   "cell_type": "markdown",
   "metadata": {},
   "source": [
    "Implement Bron–Kerbosch algorithm with a pivot. Randomly pick a vertex u from `candidates` or `excluded`. The maximal clique must include either u or one of its non-neighbors."
   ]
  },
  {
   "cell_type": "code",
   "execution_count": 30,
   "metadata": {},
   "outputs": [],
   "source": [
    "def bronKerbosch2(clique, candidates, excluded, reporter):\n",
    "    '''Bron–Kerbosch algorithm with pivot'''\n",
    "    reporter.inc_count()\n",
    "    if not candidates and not excluded:\n",
    "        if len(clique) >= 3:\n",
    "            reporter.record(clique)\n",
    "        return\n",
    "    u = pick_pivot(candidates) or pick_pivot(excluded)\n",
    "    # only consider u or its non neighbors\n",
    "    for v in list(candidates.difference(graph[u])):\n",
    "        new_candidates = candidates.intersection(graph[v])\n",
    "        new_excluded = candidates.intersection(graph[v])\n",
    "        bronKerbosch2(clique+[v], new_candidates, new_excluded, reporter)\n",
    "        candidates.remove(v)\n",
    "        excluded.add(v)\n",
    "        \n",
    "def pick_pivot(nodes):\n",
    "    if nodes:\n",
    "        return random.sample(nodes, 1)[0]"
   ]
  },
  {
   "cell_type": "code",
   "execution_count": 42,
   "metadata": {},
   "outputs": [
    {
     "name": "stdout",
     "output_type": "stream",
     "text": [
      "Pivot method: 16.47268581390381\n"
     ]
    }
   ],
   "source": [
    "start = time.time()\n",
    "report2 = Reporter('## %s' % bronKerbosch2.__doc__)\n",
    "bronKerbosch2([], set(graph.keys()), set(), report2)\n",
    "end = time.time()\n",
    "print('Pivot method:', end - start)"
   ]
  },
  {
   "cell_type": "code",
   "execution_count": 43,
   "metadata": {},
   "outputs": [
    {
     "name": "stdout",
     "output_type": "stream",
     "text": [
      "## Bron–Kerbosch algorithm with pivot\n",
      "1627022 recursive calls\n",
      "0: [330, 718, 721, 722, 720, 377, 723]\n",
      "1: [2447, 5119, 4674, 4675, 4677, 4676, 4673]\n",
      "2: [2696, 6018, 6020, 6017, 6288, 6019, 6021]\n",
      "3: [9093, 40439, 40438, 40440, 27018, 40437, 23599]\n",
      "4: [13690, 22931, 22264, 39388, 20325, 22263, 22265]\n",
      "5: [29489, 119227, 108853, 51267, 51265, 32870, 51266]\n",
      "6: [32210, 42076, 75482, 43259, 42075, 43258, 42074]\n",
      "7: [39031, 51014, 46680, 46679, 51015, 39032, 46996]\n",
      "8: [41605, 59367, 59366, 59370, 59369, 113090, 59368]\n",
      "9: [65139, 94254, 83105, 94252, 94253, 94846, 83107]\n",
      "\n"
     ]
    }
   ],
   "source": [
    "report2.print_max(10)"
   ]
  },
  {
   "cell_type": "markdown",
   "metadata": {},
   "source": [
    "Implement Bron–Kerbosch algorithm with a pivot and degeneracy ordering. Degeneracy ordering is the ordering of vertices such that each vertex has d or fewer neighbors that come later in the ordering. Select vertex of minimum degree among remaining vertices."
   ]
  },
  {
   "cell_type": "code",
   "execution_count": 35,
   "metadata": {},
   "outputs": [],
   "source": [
    "def bronKerbosch3(clique, candidates, excluded, reporter):\n",
    "    '''Bron–Kerbosch algorithm with pivot and degeneracy ordering'''\n",
    "    reporter.inc_count()\n",
    "    if not candidates and not excluded:\n",
    "        if len(clique) >= 3:\n",
    "            reporter.record(clique)\n",
    "        return\n",
    "    for v in list(degeneracy_order(candidates)):\n",
    "        new_candidates = candidates.intersection(graph[v])\n",
    "        new_excluded = candidates.intersection(graph[v])\n",
    "        bronKerbosch2(clique.append(v), new_candidates, new_excluded, reporter)\n",
    "        candidates.remove(v)\n",
    "        excluded.add(v)\n",
    "        \n",
    "def degeneracy_order(nodes):\n",
    "    deg = {}\n",
    "    for node in graph:\n",
    "        deg[node] = len(graph[node])\n",
    "    \n",
    "    while deg:\n",
    "        # find min degree\n",
    "        i, d = min(deg.items(), key=lambda pair:pair[1])\n",
    "        yield i\n",
    "        del deg[i]\n",
    "        for v in graph[i]:\n",
    "            if v in deg:\n",
    "                deg[v] -= 1"
   ]
  },
  {
   "cell_type": "code",
   "execution_count": 36,
   "metadata": {},
   "outputs": [
    {
     "ename": "KeyboardInterrupt",
     "evalue": "",
     "output_type": "error",
     "traceback": [
      "\u001b[1;31m---------------------------------------------------------------------------\u001b[0m",
      "\u001b[1;31mKeyboardInterrupt\u001b[0m                         Traceback (most recent call last)",
      "\u001b[1;32m<ipython-input-36-67c6fc13299b>\u001b[0m in \u001b[0;36m<module>\u001b[1;34m\u001b[0m\n\u001b[0;32m      1\u001b[0m \u001b[0mreport3\u001b[0m \u001b[1;33m=\u001b[0m \u001b[0mReporter\u001b[0m\u001b[1;33m(\u001b[0m\u001b[1;34m'## %s'\u001b[0m \u001b[1;33m%\u001b[0m \u001b[0mbronKerbosch3\u001b[0m\u001b[1;33m.\u001b[0m\u001b[0m__doc__\u001b[0m\u001b[1;33m)\u001b[0m\u001b[1;33m\u001b[0m\u001b[1;33m\u001b[0m\u001b[0m\n\u001b[1;32m----> 2\u001b[1;33m \u001b[0mbronKerbosch3\u001b[0m\u001b[1;33m(\u001b[0m\u001b[1;33m[\u001b[0m\u001b[1;33m]\u001b[0m\u001b[1;33m,\u001b[0m \u001b[0mset\u001b[0m\u001b[1;33m(\u001b[0m\u001b[0mgraph\u001b[0m\u001b[1;33m.\u001b[0m\u001b[0mkeys\u001b[0m\u001b[1;33m(\u001b[0m\u001b[1;33m)\u001b[0m\u001b[1;33m)\u001b[0m\u001b[1;33m,\u001b[0m \u001b[0mset\u001b[0m\u001b[1;33m(\u001b[0m\u001b[1;33m)\u001b[0m\u001b[1;33m,\u001b[0m \u001b[0mreport3\u001b[0m\u001b[1;33m)\u001b[0m\u001b[1;33m\u001b[0m\u001b[1;33m\u001b[0m\u001b[0m\n\u001b[0m",
      "\u001b[1;32m<ipython-input-35-9a0f2a82c42b>\u001b[0m in \u001b[0;36mbronKerbosch3\u001b[1;34m(clique, candidates, excluded, reporter)\u001b[0m\n\u001b[0;32m      6\u001b[0m             \u001b[0mreporter\u001b[0m\u001b[1;33m.\u001b[0m\u001b[0mrecord\u001b[0m\u001b[1;33m(\u001b[0m\u001b[0mclique\u001b[0m\u001b[1;33m)\u001b[0m\u001b[1;33m\u001b[0m\u001b[1;33m\u001b[0m\u001b[0m\n\u001b[0;32m      7\u001b[0m         \u001b[1;32mreturn\u001b[0m\u001b[1;33m\u001b[0m\u001b[1;33m\u001b[0m\u001b[0m\n\u001b[1;32m----> 8\u001b[1;33m     \u001b[1;32mfor\u001b[0m \u001b[0mv\u001b[0m \u001b[1;32min\u001b[0m \u001b[0mlist\u001b[0m\u001b[1;33m(\u001b[0m\u001b[0mdegeneracy_order\u001b[0m\u001b[1;33m(\u001b[0m\u001b[0mcandidates\u001b[0m\u001b[1;33m)\u001b[0m\u001b[1;33m)\u001b[0m\u001b[1;33m:\u001b[0m\u001b[1;33m\u001b[0m\u001b[1;33m\u001b[0m\u001b[0m\n\u001b[0m\u001b[0;32m      9\u001b[0m         \u001b[0mnew_candidates\u001b[0m \u001b[1;33m=\u001b[0m \u001b[0mcandidates\u001b[0m\u001b[1;33m.\u001b[0m\u001b[0mintersection\u001b[0m\u001b[1;33m(\u001b[0m\u001b[0mgraph\u001b[0m\u001b[1;33m[\u001b[0m\u001b[0mv\u001b[0m\u001b[1;33m]\u001b[0m\u001b[1;33m)\u001b[0m\u001b[1;33m\u001b[0m\u001b[1;33m\u001b[0m\u001b[0m\n\u001b[0;32m     10\u001b[0m         \u001b[0mnew_excluded\u001b[0m \u001b[1;33m=\u001b[0m \u001b[0mcandidates\u001b[0m\u001b[1;33m.\u001b[0m\u001b[0mintersection\u001b[0m\u001b[1;33m(\u001b[0m\u001b[0mgraph\u001b[0m\u001b[1;33m[\u001b[0m\u001b[0mv\u001b[0m\u001b[1;33m]\u001b[0m\u001b[1;33m)\u001b[0m\u001b[1;33m\u001b[0m\u001b[1;33m\u001b[0m\u001b[0m\n",
      "\u001b[1;32m<ipython-input-35-9a0f2a82c42b>\u001b[0m in \u001b[0;36mdegeneracy_order\u001b[1;34m(nodes)\u001b[0m\n\u001b[0;32m     20\u001b[0m     \u001b[1;32mwhile\u001b[0m \u001b[0mdeg\u001b[0m\u001b[1;33m:\u001b[0m\u001b[1;33m\u001b[0m\u001b[1;33m\u001b[0m\u001b[0m\n\u001b[0;32m     21\u001b[0m         \u001b[1;31m# find min degree\u001b[0m\u001b[1;33m\u001b[0m\u001b[1;33m\u001b[0m\u001b[1;33m\u001b[0m\u001b[0m\n\u001b[1;32m---> 22\u001b[1;33m         \u001b[0mi\u001b[0m\u001b[1;33m,\u001b[0m \u001b[0md\u001b[0m \u001b[1;33m=\u001b[0m \u001b[0mmin\u001b[0m\u001b[1;33m(\u001b[0m\u001b[0mdeg\u001b[0m\u001b[1;33m.\u001b[0m\u001b[0mitems\u001b[0m\u001b[1;33m(\u001b[0m\u001b[1;33m)\u001b[0m\u001b[1;33m,\u001b[0m \u001b[0mkey\u001b[0m\u001b[1;33m=\u001b[0m\u001b[1;32mlambda\u001b[0m \u001b[0mpair\u001b[0m\u001b[1;33m:\u001b[0m\u001b[0mpair\u001b[0m\u001b[1;33m[\u001b[0m\u001b[1;36m1\u001b[0m\u001b[1;33m]\u001b[0m\u001b[1;33m)\u001b[0m\u001b[1;33m\u001b[0m\u001b[1;33m\u001b[0m\u001b[0m\n\u001b[0m\u001b[0;32m     23\u001b[0m         \u001b[1;32myield\u001b[0m \u001b[0mi\u001b[0m\u001b[1;33m\u001b[0m\u001b[1;33m\u001b[0m\u001b[0m\n\u001b[0;32m     24\u001b[0m         \u001b[1;32mdel\u001b[0m \u001b[0mdeg\u001b[0m\u001b[1;33m[\u001b[0m\u001b[0mi\u001b[0m\u001b[1;33m]\u001b[0m\u001b[1;33m\u001b[0m\u001b[1;33m\u001b[0m\u001b[0m\n",
      "\u001b[1;32m<ipython-input-35-9a0f2a82c42b>\u001b[0m in \u001b[0;36m<lambda>\u001b[1;34m(pair)\u001b[0m\n\u001b[0;32m     20\u001b[0m     \u001b[1;32mwhile\u001b[0m \u001b[0mdeg\u001b[0m\u001b[1;33m:\u001b[0m\u001b[1;33m\u001b[0m\u001b[1;33m\u001b[0m\u001b[0m\n\u001b[0;32m     21\u001b[0m         \u001b[1;31m# find min degree\u001b[0m\u001b[1;33m\u001b[0m\u001b[1;33m\u001b[0m\u001b[1;33m\u001b[0m\u001b[0m\n\u001b[1;32m---> 22\u001b[1;33m         \u001b[0mi\u001b[0m\u001b[1;33m,\u001b[0m \u001b[0md\u001b[0m \u001b[1;33m=\u001b[0m \u001b[0mmin\u001b[0m\u001b[1;33m(\u001b[0m\u001b[0mdeg\u001b[0m\u001b[1;33m.\u001b[0m\u001b[0mitems\u001b[0m\u001b[1;33m(\u001b[0m\u001b[1;33m)\u001b[0m\u001b[1;33m,\u001b[0m \u001b[0mkey\u001b[0m\u001b[1;33m=\u001b[0m\u001b[1;32mlambda\u001b[0m \u001b[0mpair\u001b[0m\u001b[1;33m:\u001b[0m\u001b[0mpair\u001b[0m\u001b[1;33m[\u001b[0m\u001b[1;36m1\u001b[0m\u001b[1;33m]\u001b[0m\u001b[1;33m)\u001b[0m\u001b[1;33m\u001b[0m\u001b[1;33m\u001b[0m\u001b[0m\n\u001b[0m\u001b[0;32m     23\u001b[0m         \u001b[1;32myield\u001b[0m \u001b[0mi\u001b[0m\u001b[1;33m\u001b[0m\u001b[1;33m\u001b[0m\u001b[0m\n\u001b[0;32m     24\u001b[0m         \u001b[1;32mdel\u001b[0m \u001b[0mdeg\u001b[0m\u001b[1;33m[\u001b[0m\u001b[0mi\u001b[0m\u001b[1;33m]\u001b[0m\u001b[1;33m\u001b[0m\u001b[1;33m\u001b[0m\u001b[0m\n",
      "\u001b[1;31mKeyboardInterrupt\u001b[0m: "
     ]
    }
   ],
   "source": [
    "report3 = Reporter('## %s' % bronKerbosch3.__doc__)\n",
    "bronKerbosch3([], set(graph.keys()), set(), report3)"
   ]
  },
  {
   "cell_type": "code",
   "execution_count": null,
   "metadata": {},
   "outputs": [],
   "source": [
    "report3.print_max(10)"
   ]
  },
  {
   "cell_type": "code",
   "execution_count": null,
   "metadata": {},
   "outputs": [],
   "source": []
  }
 ],
 "metadata": {
  "kernelspec": {
   "display_name": "Python 3",
   "language": "python",
   "name": "python3"
  },
  "language_info": {
   "codemirror_mode": {
    "name": "ipython",
    "version": 3
   },
   "file_extension": ".py",
   "mimetype": "text/x-python",
   "name": "python",
   "nbconvert_exporter": "python",
   "pygments_lexer": "ipython3",
   "version": "3.6.8"
  }
 },
 "nbformat": 4,
 "nbformat_minor": 2
}

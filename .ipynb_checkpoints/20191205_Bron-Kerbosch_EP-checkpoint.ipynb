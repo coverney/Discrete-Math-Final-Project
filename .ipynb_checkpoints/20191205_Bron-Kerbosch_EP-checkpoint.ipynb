{
 "cells": [
  {
   "cell_type": "code",
   "execution_count": 2,
   "metadata": {},
   "outputs": [],
   "source": [
    "import pandas as pd\n",
    "# import thinkplot\n",
    "import numpy as np\n",
    "import re\n",
    "# from tqdm import tqdm\n",
    "# from reporter import Reporter\n",
    "import random\n",
    "import time\n",
    "import pickle"
   ]
  },
  {
   "cell_type": "markdown",
   "metadata": {},
   "source": [
    "Import the dictionary of ASIN IDs as keys to product titles as values:"
   ]
  },
  {
   "cell_type": "code",
   "execution_count": 32,
   "metadata": {},
   "outputs": [
    {
     "name": "stdout",
     "output_type": "stream",
     "text": [
      "21\n"
     ]
    }
   ],
   "source": [
    "file_name = \"email-departments-12-05\"\n",
    "picklefile = open(file_name,'rb')\n",
    "dep_map = pickle.load(picklefile)\n",
    "print(dep_map['3'])\n",
    "\n",
    "def get_department(id):\n",
    "    return dep_map[id]"
   ]
  },
  {
   "cell_type": "markdown",
   "metadata": {},
   "source": [
    "Import adjacency matrix saved as copurchases pickle file"
   ]
  },
  {
   "cell_type": "code",
   "execution_count": 18,
   "metadata": {},
   "outputs": [
    {
     "name": "stdout",
     "output_type": "stream",
     "text": [
      "['2', '4', '63', '174', '408', '58', '175', '114', '192', '303', '56', '286', '59', '236', '587', '281', '665', '520', '412', '195', '411', '137', '158', '194', '211', '239', '183', '272', '107', '571', '160', '599', '859', '89', '62', '812', '601', '886', '57', '102', '208', '6', '832', '371', '434', '256', '685', '481', '81', '193', '323', '55', '249', '971', '845', '271', '252', '138', '880', '932', '473', '405', '210', '46', '128', '283', '166', '990', '1001']\n"
     ]
    }
   ],
   "source": [
    "# open the file for writing\n",
    "file_name = \"copurchases-emails-12-05\"\n",
    "picklefile = open(file_name,'rb')\n",
    "copurchases = pickle.load(picklefile)\n",
    "\n",
    "print(copurchases['3'])"
   ]
  },
  {
   "cell_type": "markdown",
   "metadata": {},
   "source": [
    "Class for Reporter object that stores cliques, and can print them"
   ]
  },
  {
   "cell_type": "code",
   "execution_count": 24,
   "metadata": {},
   "outputs": [],
   "source": [
    "class Reporter(object):\n",
    "    def __init__(self, name):\n",
    "        self.name = name\n",
    "        self.cnt = 0\n",
    "        self.cliques = []\n",
    "\n",
    "    def inc_count(self):\n",
    "        self.cnt += 1\n",
    "\n",
    "    def record(self, clique):\n",
    "        self.cliques.append(clique)\n",
    "\n",
    "    def sort_cliques(self):\n",
    "        self.cliques.sort(key=len, reverse=True)\n",
    "\n",
    "    def print_max(self, n):\n",
    "        # print the n largest cliques\n",
    "        self.sort_cliques()\n",
    "        print(self.name)\n",
    "        print('%d recursive calls' % self.cnt)\n",
    "        for i in range(n):\n",
    "            clique = self.cliques[i]\n",
    "            products = []\n",
    "            departments = []\n",
    "            for el in clique:\n",
    "                products.append(el)\n",
    "                dep = get_department(el)\n",
    "                departments.append(dep)\n",
    "            print('%d people: %s' % (i, products))\n",
    "            print('%d departments: %s' % (i, departments))\n",
    "        print()\n",
    "\n",
    "    def print_report(self):\n",
    "        print(self.name)\n",
    "        print('%d recursive calls' % self.cnt)\n",
    "        for i, clique in enumerate(self.cliques):\n",
    "            products = []\n",
    "            departments = []\n",
    "            for element in clique:\n",
    "                products.append() # TODO: append get_name(element)\n",
    "                dep = get_department(element)\n",
    "                departments.append(dep)\n",
    "            print('%d people: %s' % (i, products))\n",
    "            print('%d departments: %s' % (i, departments))\n",
    "        print()\n",
    "        \n",
    "    def get_cliques(self):\n",
    "        self.sort_cliques()\n",
    "        return self.cliques\n"
   ]
  },
  {
   "cell_type": "markdown",
   "metadata": {},
   "source": [
    "Implement naive Bron–Kerbosch algorithm"
   ]
  },
  {
   "cell_type": "code",
   "execution_count": 25,
   "metadata": {},
   "outputs": [],
   "source": [
    "def bronKerbosch1(clique, candidates, excluded, reporter):\n",
    "    '''Naive Bron–Kerbosch algorithm'''\n",
    "    reporter.inc_count()\n",
    "    if not candidates and not excluded:\n",
    "        if len(clique) >= 3:\n",
    "            reporter.record(clique)\n",
    "        return\n",
    "    \n",
    "    for v in list(candidates):\n",
    "        new_candidates = candidates.intersection(copurchases[v])\n",
    "        new_excluded = candidates.intersection(copurchases[v])\n",
    "        bronKerbosch1(clique+[v], new_candidates, new_excluded, reporter)\n",
    "        candidates.remove(v)\n",
    "        excluded.add(v)"
   ]
  },
  {
   "cell_type": "code",
   "execution_count": 26,
   "metadata": {},
   "outputs": [
    {
     "name": "stdout",
     "output_type": "stream",
     "text": [
      "Naive method: 195.3232066631317\n"
     ]
    }
   ],
   "source": [
    "start = time.time()\n",
    "report1 = Reporter('## %s' % bronKerbosch1.__doc__)\n",
    "bronKerbosch1([], set(copurchases.keys()), set(), report1)\n",
    "end = time.time()\n",
    "print('Naive method:', end - start)"
   ]
  },
  {
   "cell_type": "code",
   "execution_count": 27,
   "metadata": {},
   "outputs": [],
   "source": [
    "cliques = report1.get_cliques()"
   ]
  },
  {
   "cell_type": "code",
   "execution_count": 28,
   "metadata": {},
   "outputs": [
    {
     "name": "stdout",
     "output_type": "stream",
     "text": [
      "18708038\n"
     ]
    }
   ],
   "source": [
    "print(len([x for x in cliques if len(x) > 6]))"
   ]
  },
  {
   "cell_type": "markdown",
   "metadata": {},
   "source": [
    "The size of the maximal clique is 18!"
   ]
  },
  {
   "cell_type": "code",
   "execution_count": 29,
   "metadata": {},
   "outputs": [
    {
     "name": "stdout",
     "output_type": "stream",
     "text": [
      "## Naive Bron–Kerbosch algorithm\n",
      "37490038 recursive calls\n"
     ]
    },
    {
     "ename": "TypeError",
     "evalue": "'function' object is not subscriptable",
     "output_type": "error",
     "traceback": [
      "\u001b[0;31m---------------------------------------------------------------------------\u001b[0m",
      "\u001b[0;31mTypeError\u001b[0m                                 Traceback (most recent call last)",
      "\u001b[0;32m<ipython-input-29-dbb9337fb39b>\u001b[0m in \u001b[0;36m<module>\u001b[0;34m\u001b[0m\n\u001b[0;32m----> 1\u001b[0;31m \u001b[0mreport1\u001b[0m\u001b[0;34m.\u001b[0m\u001b[0mprint_max\u001b[0m\u001b[0;34m(\u001b[0m\u001b[0;36m10\u001b[0m\u001b[0;34m)\u001b[0m\u001b[0;34m\u001b[0m\u001b[0;34m\u001b[0m\u001b[0m\n\u001b[0m",
      "\u001b[0;32m<ipython-input-24-4d9e9d5b402a>\u001b[0m in \u001b[0;36mprint_max\u001b[0;34m(self, n)\u001b[0m\n\u001b[1;32m     25\u001b[0m             \u001b[0;32mfor\u001b[0m \u001b[0mel\u001b[0m \u001b[0;32min\u001b[0m \u001b[0mclique\u001b[0m\u001b[0;34m:\u001b[0m\u001b[0;34m\u001b[0m\u001b[0;34m\u001b[0m\u001b[0m\n\u001b[1;32m     26\u001b[0m                 \u001b[0mproducts\u001b[0m\u001b[0;34m.\u001b[0m\u001b[0mappend\u001b[0m\u001b[0;34m(\u001b[0m\u001b[0mel\u001b[0m\u001b[0;34m)\u001b[0m\u001b[0;34m\u001b[0m\u001b[0;34m\u001b[0m\u001b[0m\n\u001b[0;32m---> 27\u001b[0;31m                 \u001b[0mdepartments\u001b[0m\u001b[0;34m.\u001b[0m\u001b[0mappend\u001b[0m\u001b[0;34m(\u001b[0m\u001b[0mget_department\u001b[0m\u001b[0;34m[\u001b[0m\u001b[0mel\u001b[0m\u001b[0;34m]\u001b[0m\u001b[0;34m)\u001b[0m\u001b[0;34m\u001b[0m\u001b[0;34m\u001b[0m\u001b[0m\n\u001b[0m\u001b[1;32m     28\u001b[0m             \u001b[0mprint\u001b[0m\u001b[0;34m(\u001b[0m\u001b[0;34m'%d people: %s'\u001b[0m \u001b[0;34m%\u001b[0m \u001b[0;34m(\u001b[0m\u001b[0mi\u001b[0m\u001b[0;34m,\u001b[0m \u001b[0mproducts\u001b[0m\u001b[0;34m)\u001b[0m\u001b[0;34m)\u001b[0m\u001b[0;34m\u001b[0m\u001b[0;34m\u001b[0m\u001b[0m\n\u001b[1;32m     29\u001b[0m             \u001b[0mprint\u001b[0m\u001b[0;34m(\u001b[0m\u001b[0;34m'%d departments: %s'\u001b[0m \u001b[0;34m%\u001b[0m \u001b[0;34m(\u001b[0m\u001b[0mi\u001b[0m\u001b[0;34m,\u001b[0m \u001b[0mdepartments\u001b[0m\u001b[0;34m)\u001b[0m\u001b[0;34m)\u001b[0m\u001b[0;34m\u001b[0m\u001b[0;34m\u001b[0m\u001b[0m\n",
      "\u001b[0;31mTypeError\u001b[0m: 'function' object is not subscriptable"
     ]
    }
   ],
   "source": [
    "report1.print_max(10)"
   ]
  },
  {
   "cell_type": "markdown",
   "metadata": {},
   "source": [
    "Implement Bron–Kerbosch algorithm with a pivot. Randomly pick a vertex u from `candidates` or `excluded`. The maximal clique must include either u or one of its non-neighbors."
   ]
  },
  {
   "cell_type": "code",
   "execution_count": 9,
   "metadata": {},
   "outputs": [],
   "source": [
    "def bronKerbosch2(clique, candidates, excluded, reporter):\n",
    "    '''Bron–Kerbosch algorithm with pivot'''\n",
    "    reporter.inc_count()\n",
    "    if not candidates and not excluded:\n",
    "        if len(clique) >= 3:\n",
    "            reporter.record(clique)\n",
    "        return\n",
    "    u = pick_pivot(candidates) or pick_pivot(excluded)\n",
    "    # only consider u or its non neighbors\n",
    "    for v in list(candidates.difference(copurchases[u])):\n",
    "        new_candidates = candidates.intersection(copurchases[v])\n",
    "        new_excluded = candidates.intersection(copurchases[v])\n",
    "        bronKerbosch2(clique+[v], new_candidates, new_excluded, reporter)\n",
    "        candidates.remove(v)\n",
    "        excluded.add(v)\n",
    "        \n",
    "def pick_pivot(nodes):\n",
    "    if nodes:\n",
    "        return random.sample(nodes, 1)[0]"
   ]
  },
  {
   "cell_type": "code",
   "execution_count": 10,
   "metadata": {},
   "outputs": [
    {
     "name": "stdout",
     "output_type": "stream",
     "text": [
      "Pivot method: 6.0161213874816895\n"
     ]
    }
   ],
   "source": [
    "start = time.time()\n",
    "report2 = Reporter('## %s' % bronKerbosch2.__doc__)\n",
    "bronKerbosch2([], set(copurchases.keys()), set(), report2)\n",
    "end = time.time()\n",
    "print('Pivot method:', end - start)"
   ]
  },
  {
   "cell_type": "code",
   "execution_count": 11,
   "metadata": {},
   "outputs": [
    {
     "name": "stdout",
     "output_type": "stream",
     "text": [
      "## Bron–Kerbosch algorithm with pivot\n",
      "1268104 recursive calls\n",
      "0: ['Masks of Black Africa (African Art Art of Illustration)', \"A Collector's Guide to African Sculpture (Schiffer Book for Collectors)\", 'The Tribal Arts of Africa', 'Africa: The Art of a Continent', 'African Masks: The Barbier-Mueller Collection', 'History of Art in Africa (Trade Version)']\n",
      "1: ['Currents of Death', \"Electromagnetic Fields: A Consumer's Guide to the Issues and How to Protect Ourselves\", \"Cell Phones: Invisible Hazards in the Wireless Age: An Insider's Alarming Discoveries about Cancer and Genetic Damage\", 'Cell Towers: Wireless Convenience? or Environmental Hazard?', 'The Body Electric: Electromagnetism and the Foundation of Life', 'Cross Currents: The Promise of Electromedicine, the Perils of Electropollution']\n",
      "2: ['The Lion, the Witch and the Wardrobe', 'The Last Battle', 'The Silver Chair', 'The Horse and His Boy', \"The Magician's Nephew (rack) (Narnia)\", 'Prince Caspian (rack) : The Return to Narnia (Narnia)']\n",
      "3: ['The Deception', 'The Gamble', 'The Pretenders', 'Golden Girl', 'The Arrangement', 'The Guardian']\n",
      "4: ['The Best of Twisted Tunes, Vol. 2', 'More Twisted Christmas', 'Twisted Christmas', 'I Am Santa Claus', 'White Trash Christmas', 'Chipmunks Roasting on an Open Fire']\n",
      "5: ['Train to Somewhere', 'Going Home (Trophy Picture Books (Paperback))', 'The Wall (Reading Rainbow Book)', 'Dandelions', \"A Day's Work\", 'Fly Away Home']\n",
      "6: ['Last Man Standing', 'Absolute Power', 'Total Control', 'The Simple Truth', 'The Winner', 'Wish You Well']\n",
      "7: ['Gentlemen of Fortune', 'Operation \"Y\" & Other Shurik\\'s Adventures', 'The Irony of Fate, or \"Enjoy Your Bath\"', 'Ivan Vasilievich - Back to the Future', 'Kidnapping Caucassian Style', 'The Diamond Arm']\n",
      "8: ['Personalized Whole Brain Integration', 'Smart Moves: Why Learning Is Not All in Your Head', 'The Dominance Factor: How Knowing Your Dominant Eye, Ear, Brain, Hand, & Foot Can Improve Your Learning', 'Brain Gym (Teachers Edition)', 'Brain Gym: Simple Activities for Whole Brain Learning (Orange)', 'Edu-K for Kids']\n",
      "9: ['Vendetta : An Aurelio Zen Mystery (Vintage Crime/Black Lizard)', 'Ratking', 'Cabal : An Aurelio Zen Mystery (Vintage Crime/Black Lizard)', 'Cosi Fan Tutti : An Aurelio Zen Mystery (Vintage Crime/Black Lizard)', 'Dead Lagoon : An Aurelio Zen Mystery (Vintage Crime/Black Lizard)', 'Blood Rain : An Aurelio Zen Mystery (Vintage Crime/Black Lizard)']\n",
      "\n"
     ]
    }
   ],
   "source": [
    "report2.print_max(10)"
   ]
  },
  {
   "cell_type": "markdown",
   "metadata": {},
   "source": [
    "Implement Bron–Kerbosch algorithm with a pivot and degeneracy ordering. Degeneracy ordering is the ordering of vertices such that each vertex has d or fewer neighbors that come later in the ordering. Select vertex of minimum degree among remaining vertices."
   ]
  },
  {
   "cell_type": "code",
   "execution_count": 37,
   "metadata": {},
   "outputs": [],
   "source": [
    "from collections import deque \n",
    "from collections import defaultdict\n",
    "\n",
    "def bronKerbosch3(clique, candidates, excluded, reporter):\n",
    "    '''Bron–Kerbosch algorithm with pivot and degeneracy ordering'''\n",
    "    reporter.inc_count()\n",
    "    if not candidates and not excluded:\n",
    "        if len(clique) >= 3:\n",
    "            reporter.record(clique)\n",
    "        return\n",
    "    for v in list(degeneracy_order2(candidates)):\n",
    "        new_candidates = candidates.intersection(copurchases[v])\n",
    "        new_excluded = candidates.intersection(copurchases[v])\n",
    "        bronKerbosch2(clique.append(v), new_candidates, new_excluded, reporter)\n",
    "        candidates.remove(v)\n",
    "        excluded.add(v)\n",
    "        \n",
    "def degeneracy_order(nodes):\n",
    "    deg = {}\n",
    "    for node in nodes:\n",
    "        deg[node] = len(copurchases[node])\n",
    "    \n",
    "    output = []\n",
    "    while deg:\n",
    "        # find min degree\n",
    "        i, d = min(deg.items(), key=lambda pair:pair[1])\n",
    "        output.append(i)\n",
    "        del deg[i]\n",
    "        for v in copurchases[i]:\n",
    "            if v in deg:\n",
    "                deg[v] -= 1\n",
    "    return output\n",
    "\n",
    "def degeneracy_order2(nodes):\n",
    "    ordering = []\n",
    "    ordering_set = set()\n",
    "    degrees = defaultdict(lambda : 0)\n",
    "    degen = defaultdict(list)\n",
    "    max_deg = -1\n",
    "    for v in nodes:\n",
    "        deg = len(copurchases[v])\n",
    "        degen[deg].append(v)\n",
    "        degrees[v] = deg\n",
    "        if deg > max_deg:\n",
    "            max_deg = deg\n",
    "    \n",
    "    while True:\n",
    "        i = 0\n",
    "        while i <= max_deg:\n",
    "            if len(degen[i]) != 0:\n",
    "                break\n",
    "            i += 1\n",
    "        else:\n",
    "            break\n",
    "        v = degen[i].pop()\n",
    "        ordering.append(v)\n",
    "        ordering_set.add(v)\n",
    "        for w in copurchases[v]:\n",
    "            if w not in ordering_set and w in nodes:\n",
    "                deg = degrees[w]\n",
    "                if deg > 0:\n",
    "                    degen[deg].remove(w)\n",
    "                    degrees[w] -= 1\n",
    "                    degen[deg - 1].append(w)\n",
    "    ordering.reverse()\n",
    "    return ordering"
   ]
  },
  {
   "cell_type": "code",
   "execution_count": 38,
   "metadata": {},
   "outputs": [
    {
     "name": "stdout",
     "output_type": "stream",
     "text": [
      "['1564773531', '1931514720', '1584230088', '094211034X', '0810962160', '1563088320', '1560324325', '0141303158', '0864425384', 'B000005Z0M']\n",
      "Time to get degeneracy ordering: 3017.6201479434967\n"
     ]
    }
   ],
   "source": [
    "start = time.time()\n",
    "res = degeneracy_order2(set(copurchases.keys()))\n",
    "print(res[:10])\n",
    "end = time.time()\n",
    "print('Time to get degeneracy ordering:', end - start)"
   ]
  },
  {
   "cell_type": "code",
   "execution_count": 42,
   "metadata": {},
   "outputs": [
    {
     "ename": "TypeError",
     "evalue": "object of type 'NoneType' has no len()",
     "output_type": "error",
     "traceback": [
      "\u001b[1;31m---------------------------------------------------------------------------\u001b[0m",
      "\u001b[1;31mTypeError\u001b[0m                                 Traceback (most recent call last)",
      "\u001b[1;32m<ipython-input-42-eddda094e213>\u001b[0m in \u001b[0;36m<module>\u001b[1;34m\u001b[0m\n\u001b[0;32m      1\u001b[0m \u001b[0mstart\u001b[0m \u001b[1;33m=\u001b[0m \u001b[0mtime\u001b[0m\u001b[1;33m.\u001b[0m\u001b[0mtime\u001b[0m\u001b[1;33m(\u001b[0m\u001b[1;33m)\u001b[0m\u001b[1;33m\u001b[0m\u001b[1;33m\u001b[0m\u001b[0m\n\u001b[0;32m      2\u001b[0m \u001b[0mreport3\u001b[0m \u001b[1;33m=\u001b[0m \u001b[0mReporter\u001b[0m\u001b[1;33m(\u001b[0m\u001b[1;34m'## %s'\u001b[0m \u001b[1;33m%\u001b[0m \u001b[0mbronKerbosch3\u001b[0m\u001b[1;33m.\u001b[0m\u001b[0m__doc__\u001b[0m\u001b[1;33m)\u001b[0m\u001b[1;33m\u001b[0m\u001b[1;33m\u001b[0m\u001b[0m\n\u001b[1;32m----> 3\u001b[1;33m \u001b[0mbronKerbosch3\u001b[0m\u001b[1;33m(\u001b[0m\u001b[1;33m[\u001b[0m\u001b[1;33m]\u001b[0m\u001b[1;33m,\u001b[0m \u001b[0mset\u001b[0m\u001b[1;33m(\u001b[0m\u001b[0mcopurchases\u001b[0m\u001b[1;33m.\u001b[0m\u001b[0mkeys\u001b[0m\u001b[1;33m(\u001b[0m\u001b[1;33m)\u001b[0m\u001b[1;33m)\u001b[0m\u001b[1;33m,\u001b[0m \u001b[0mset\u001b[0m\u001b[1;33m(\u001b[0m\u001b[1;33m)\u001b[0m\u001b[1;33m,\u001b[0m \u001b[0mreport3\u001b[0m\u001b[1;33m)\u001b[0m\u001b[1;33m\u001b[0m\u001b[1;33m\u001b[0m\u001b[0m\n\u001b[0m\u001b[0;32m      4\u001b[0m \u001b[0mend\u001b[0m \u001b[1;33m=\u001b[0m \u001b[0mtime\u001b[0m\u001b[1;33m.\u001b[0m\u001b[0mtime\u001b[0m\u001b[1;33m(\u001b[0m\u001b[1;33m)\u001b[0m\u001b[1;33m\u001b[0m\u001b[1;33m\u001b[0m\u001b[0m\n\u001b[0;32m      5\u001b[0m \u001b[0mprint\u001b[0m\u001b[1;33m(\u001b[0m\u001b[1;34m'Pivot method with degeneracy ordering:'\u001b[0m\u001b[1;33m,\u001b[0m \u001b[0mend\u001b[0m \u001b[1;33m-\u001b[0m \u001b[0mstart\u001b[0m\u001b[1;33m)\u001b[0m\u001b[1;33m\u001b[0m\u001b[1;33m\u001b[0m\u001b[0m\n",
      "\u001b[1;32m<ipython-input-37-e35bc8afae26>\u001b[0m in \u001b[0;36mbronKerbosch3\u001b[1;34m(clique, candidates, excluded, reporter)\u001b[0m\n\u001b[0;32m     12\u001b[0m         \u001b[0mnew_candidates\u001b[0m \u001b[1;33m=\u001b[0m \u001b[0mcandidates\u001b[0m\u001b[1;33m.\u001b[0m\u001b[0mintersection\u001b[0m\u001b[1;33m(\u001b[0m\u001b[0mcopurchases\u001b[0m\u001b[1;33m[\u001b[0m\u001b[0mv\u001b[0m\u001b[1;33m]\u001b[0m\u001b[1;33m)\u001b[0m\u001b[1;33m\u001b[0m\u001b[1;33m\u001b[0m\u001b[0m\n\u001b[0;32m     13\u001b[0m         \u001b[0mnew_excluded\u001b[0m \u001b[1;33m=\u001b[0m \u001b[0mcandidates\u001b[0m\u001b[1;33m.\u001b[0m\u001b[0mintersection\u001b[0m\u001b[1;33m(\u001b[0m\u001b[0mcopurchases\u001b[0m\u001b[1;33m[\u001b[0m\u001b[0mv\u001b[0m\u001b[1;33m]\u001b[0m\u001b[1;33m)\u001b[0m\u001b[1;33m\u001b[0m\u001b[1;33m\u001b[0m\u001b[0m\n\u001b[1;32m---> 14\u001b[1;33m         \u001b[0mbronKerbosch2\u001b[0m\u001b[1;33m(\u001b[0m\u001b[0mclique\u001b[0m\u001b[1;33m.\u001b[0m\u001b[0mappend\u001b[0m\u001b[1;33m(\u001b[0m\u001b[0mv\u001b[0m\u001b[1;33m)\u001b[0m\u001b[1;33m,\u001b[0m \u001b[0mnew_candidates\u001b[0m\u001b[1;33m,\u001b[0m \u001b[0mnew_excluded\u001b[0m\u001b[1;33m,\u001b[0m \u001b[0mreporter\u001b[0m\u001b[1;33m)\u001b[0m\u001b[1;33m\u001b[0m\u001b[1;33m\u001b[0m\u001b[0m\n\u001b[0m\u001b[0;32m     15\u001b[0m         \u001b[0mcandidates\u001b[0m\u001b[1;33m.\u001b[0m\u001b[0mremove\u001b[0m\u001b[1;33m(\u001b[0m\u001b[0mv\u001b[0m\u001b[1;33m)\u001b[0m\u001b[1;33m\u001b[0m\u001b[1;33m\u001b[0m\u001b[0m\n\u001b[0;32m     16\u001b[0m         \u001b[0mexcluded\u001b[0m\u001b[1;33m.\u001b[0m\u001b[0madd\u001b[0m\u001b[1;33m(\u001b[0m\u001b[0mv\u001b[0m\u001b[1;33m)\u001b[0m\u001b[1;33m\u001b[0m\u001b[1;33m\u001b[0m\u001b[0m\n",
      "\u001b[1;32m<ipython-input-9-9d6409cf954f>\u001b[0m in \u001b[0;36mbronKerbosch2\u001b[1;34m(clique, candidates, excluded, reporter)\u001b[0m\n\u001b[0;32m      3\u001b[0m     \u001b[0mreporter\u001b[0m\u001b[1;33m.\u001b[0m\u001b[0minc_count\u001b[0m\u001b[1;33m(\u001b[0m\u001b[1;33m)\u001b[0m\u001b[1;33m\u001b[0m\u001b[1;33m\u001b[0m\u001b[0m\n\u001b[0;32m      4\u001b[0m     \u001b[1;32mif\u001b[0m \u001b[1;32mnot\u001b[0m \u001b[0mcandidates\u001b[0m \u001b[1;32mand\u001b[0m \u001b[1;32mnot\u001b[0m \u001b[0mexcluded\u001b[0m\u001b[1;33m:\u001b[0m\u001b[1;33m\u001b[0m\u001b[1;33m\u001b[0m\u001b[0m\n\u001b[1;32m----> 5\u001b[1;33m         \u001b[1;32mif\u001b[0m \u001b[0mlen\u001b[0m\u001b[1;33m(\u001b[0m\u001b[0mclique\u001b[0m\u001b[1;33m)\u001b[0m \u001b[1;33m>=\u001b[0m \u001b[1;36m3\u001b[0m\u001b[1;33m:\u001b[0m\u001b[1;33m\u001b[0m\u001b[1;33m\u001b[0m\u001b[0m\n\u001b[0m\u001b[0;32m      6\u001b[0m             \u001b[0mreporter\u001b[0m\u001b[1;33m.\u001b[0m\u001b[0mrecord\u001b[0m\u001b[1;33m(\u001b[0m\u001b[0mclique\u001b[0m\u001b[1;33m)\u001b[0m\u001b[1;33m\u001b[0m\u001b[1;33m\u001b[0m\u001b[0m\n\u001b[0;32m      7\u001b[0m         \u001b[1;32mreturn\u001b[0m\u001b[1;33m\u001b[0m\u001b[1;33m\u001b[0m\u001b[0m\n",
      "\u001b[1;31mTypeError\u001b[0m: object of type 'NoneType' has no len()"
     ]
    }
   ],
   "source": [
    "start = time.time()\n",
    "report3 = Reporter('## %s' % bronKerbosch3.__doc__)\n",
    "bronKerbosch3([], set(copurchases.keys()), set(), report3)\n",
    "end = time.time()\n",
    "print('Pivot method with degeneracy ordering:', end - start)"
   ]
  },
  {
   "cell_type": "code",
   "execution_count": null,
   "metadata": {},
   "outputs": [],
   "source": [
    "report3.print_max(10)"
   ]
  },
  {
   "cell_type": "code",
   "execution_count": null,
   "metadata": {},
   "outputs": [],
   "source": []
  }
 ],
 "metadata": {
  "kernelspec": {
   "display_name": "Python 3",
   "language": "python",
   "name": "python3"
  },
  "language_info": {
   "codemirror_mode": {
    "name": "ipython",
    "version": 3
   },
   "file_extension": ".py",
   "mimetype": "text/x-python",
   "name": "python",
   "nbconvert_exporter": "python",
   "pygments_lexer": "ipython3",
   "version": "3.6.8"
  }
 },
 "nbformat": 4,
 "nbformat_minor": 2
}
